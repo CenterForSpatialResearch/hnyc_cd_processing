{
 "cells": [
  {
   "cell_type": "code",
   "execution_count": 95,
   "metadata": {},
   "outputs": [
    {
     "name": "stdout",
     "output_type": "stream",
     "text": [
      "input/1850/GNA_bk_1850.txt\r\n"
     ]
    }
   ],
   "source": [
    "!ls \"input/1850/GNA_bk_1850.txt\""
   ]
  },
  {
   "cell_type": "code",
   "execution_count": 96,
   "metadata": {},
   "outputs": [],
   "source": [
    "#load data\n",
    "import glob # import glob to retrieve files/pathnames matching a specified pattern\n",
    "file_path = \"input/1850/GNA_bk_1850.txt\"\n",
    "with open(file_path, 'r', encoding=\"cp1252\") as f: # The encoding was different from the previous 2\n",
    "  data = f.readlines()  "
   ]
  },
  {
   "cell_type": "code",
   "execution_count": 97,
   "metadata": {},
   "outputs": [
    {
     "data": {
      "text/plain": [
       "(17089, 1)"
      ]
     },
     "execution_count": 97,
     "metadata": {},
     "output_type": "execute_result"
    }
   ],
   "source": [
    "import pandas as pd\n",
    "pd.DataFrame(data).shape"
   ]
  },
  {
   "cell_type": "markdown",
   "metadata": {},
   "source": [
    "There are 17,089 rows"
   ]
  },
  {
   "cell_type": "code",
   "execution_count": 98,
   "metadata": {},
   "outputs": [
    {
     "data": {
      "text/plain": [
       "['HE ARNES’\\n',\n",
       " 'BROOKLYN CITY\\n',\n",
       " 'DIRECTORY.\\n',\n",
       " '1850-1851.\\n',\n",
       " 'NOTE.—Names having a * are the names of colored people\\n',\n",
       " 'Abbreviationsh. stands for house, n, for near, c. for corner, op. for\\n',\n",
       " 'opposite,b. for between, The precise location of residences thus de-\\n',\n",
       " 'scribed, may be ascertained by reference to the SHEET DIREOTORY.\\n',\n",
       " 'A\\n',\n",
       " 'Abberly Richard, shoemaker 168 Hudson av\\n']"
      ]
     },
     "execution_count": 98,
     "metadata": {},
     "output_type": "execute_result"
    }
   ],
   "source": [
    "data[0:10]"
   ]
  },
  {
   "cell_type": "markdown",
   "metadata": {},
   "source": [
    "## Clean Data"
   ]
  },
  {
   "cell_type": "code",
   "execution_count": 99,
   "metadata": {},
   "outputs": [],
   "source": [
    "# Remove Headers from data\n",
    "header = ['BROOKLYN DIRECTORY.\\n', 'BROOKLYN DIRECTORY,\\n', 'BROOKLYN DIR-ECTORY,\\n', 'BROOKLYN DIRECTOE.Y.\\n', 'BROOKLYN DIBECTORY.\\n', 'BROOKLYN DIR-ECTORY\\n']\n",
    "data = [entry for entry in data if entry not in header]\n",
    "\n",
    "# Remove \\n\n",
    "data = [entry.replace('\\n', '') for entry in data]\n",
    "\n",
    "# Remove \\t\n",
    "data = [entry.replace('\\t', ' ') for entry in data]\n",
    "\n",
    "# Remove Blanks\n",
    "data = [entry for entry in data if entry != ' ']\n",
    "\n",
    "# Remove Page Numbers\n",
    "import re\n",
    "data = [entry for entry in data if not re.search('^[0-9]+$', entry)]\n"
   ]
  },
  {
   "cell_type": "code",
   "execution_count": 100,
   "metadata": {},
   "outputs": [
    {
     "data": {
      "text/plain": [
       "16081"
      ]
     },
     "execution_count": 100,
     "metadata": {},
     "output_type": "execute_result"
    }
   ],
   "source": [
    "len(data)"
   ]
  },
  {
   "cell_type": "markdown",
   "metadata": {},
   "source": [
    "### Moving the [... down to the next row"
   ]
  },
  {
   "cell_type": "code",
   "execution_count": 101,
   "metadata": {
    "scrolled": true
   },
   "outputs": [],
   "source": [
    "import re\n",
    "for index in range(0, len(data)):\n",
    "    match = re.findall(r'\\[.*$', data[index])\n",
    "    if match:\n",
    "        data[index + 1] = data[index + 1] + ' ' + str(match[0]).strip('[')\n",
    "        data[index] = data[index].replace(str(match[0]), '')\n",
    "    else:\n",
    "        pass"
   ]
  },
  {
   "cell_type": "markdown",
   "metadata": {},
   "source": [
    "### Issues with Paranthesis\n",
    "- Adams J W, civil engineer Hoyt n State (Classon av\n",
    "- Addy Edward 50 Middagh (tionary 262 Fulton"
   ]
  },
  {
   "cell_type": "markdown",
   "metadata": {},
   "source": [
    "Abbreviations h. stands for house, n, for near, c. for corner, op. for\\n',\n",
    " 'opposite,b. for between"
   ]
  },
  {
   "cell_type": "code",
   "execution_count": 102,
   "metadata": {},
   "outputs": [
    {
     "data": {
      "text/plain": [
       "['HE ARNES’',\n",
       " 'BROOKLYN CITY',\n",
       " 'DIRECTORY.',\n",
       " '1850-1851.',\n",
       " 'NOTE.—Names having a * are the names of colored people',\n",
       " 'Abbreviationsh. stands for house, n, for near, c. for corner, op. for',\n",
       " 'opposite,b. for between, The precise location of residences thus de-']"
      ]
     },
     "execution_count": 102,
     "metadata": {},
     "output_type": "execute_result"
    }
   ],
   "source": [
    "data[0:7]"
   ]
  },
  {
   "cell_type": "code",
   "execution_count": 103,
   "metadata": {},
   "outputs": [],
   "source": [
    "# Remove first 8 lines of the Entry\n",
    "data = data[8:16081]"
   ]
  },
  {
   "cell_type": "markdown",
   "metadata": {},
   "source": [
    "### Occupations need to be separated from Address by ,\n",
    "\n",
    "- Make a list of Occupations from 1850 MN dataset"
   ]
  },
  {
   "cell_type": "code",
   "execution_count": 195,
   "metadata": {
    "scrolled": true
   },
   "outputs": [],
   "source": [
    "pattern = ', [A-Za-z]+ [0-9A-Z]'\n",
    "for index in range(0, len(data)):\n",
    "    if len(data[index]) <3:\n",
    "        pass\n",
    "    else:\n",
    "        if re.findall(pattern, data[index]):\n",
    "            x = str(re.findall(pattern, data[index]))\n",
    "            y = str(x).replace(' ', ', ')\n",
    "            z = y.replace(',,', ',')\n",
    "            data[index] = data[index].replace(str(x), str(z))"
   ]
  },
  {
   "cell_type": "markdown",
   "metadata": {},
   "source": [
    "## Divide records into different sections based on first letter"
   ]
  },
  {
   "cell_type": "code",
   "execution_count": 88,
   "metadata": {},
   "outputs": [],
   "source": [
    "import re\n",
    "\n",
    "d = {}\n",
    "value = []\n",
    "i = 0\n",
    "for line in data:\n",
    "  line = line.strip()\n",
    "  if line:\n",
    "    if len(line) < 3: \n",
    "      # 1850 BK data is not split by '***' instead it is split by 'B, C, D'\n",
    "      if bool(re.match(\"([A-Z])\", line)) == True: # Removed \\. because this dataset does not have that\n",
    "        # save previous value\n",
    "        if value:\n",
    "          if value[0] == \"'\":\n",
    "            value = value[1:]\n",
    "          d[key] = value\n",
    "        \n",
    "        key = line\n",
    "        value = []\n",
    "    else:\n",
    "      value.append(line)"
   ]
  },
  {
   "cell_type": "code",
   "execution_count": 89,
   "metadata": {},
   "outputs": [
    {
     "data": {
      "text/plain": [
       "25"
      ]
     },
     "execution_count": 89,
     "metadata": {},
     "output_type": "execute_result"
    }
   ],
   "source": [
    "# Check if function above works\n",
    "len(d)"
   ]
  },
  {
   "cell_type": "markdown",
   "metadata": {},
   "source": [
    "## Combline lines that belong to the same record\n",
    "\n",
    "Criteria:\n",
    "\n",
    "1) First letter of next line not equal to the initial letter in this section\n",
    "\n",
    "2) Special cases in the start of next line: B’klyn, B'way, E., W."
   ]
  },
  {
   "cell_type": "code",
   "execution_count": 90,
   "metadata": {},
   "outputs": [],
   "source": [
    "for key,value in d.items():\n",
    "  initial = key[0]\n",
    "  new_value = []\n",
    "  n = len(value)\n",
    "  i = 0\n",
    "  \n",
    "  while i < n:\n",
    "    if i < n-1:\n",
    "      if (value[i+1][0] != initial and value[i+1][0] != \"*\") or (value[i+1][0:2] in [\"B’\", \"E.\", \"W.\"]) or (value[i+1][0:2] == \". \"):\n",
    "        if value[i][-1] == \"-\":\n",
    "          s = value[i][:-1] + value[i+1]\n",
    "        else:\n",
    "          s = value[i] + ' ' + value[i+1]\n",
    "        new_value.append(s)\n",
    "        i += 2\n",
    "      else:\n",
    "        new_value.append(value[i])\n",
    "        i += 1 \n",
    "    else:\n",
    "      if value[i][0] == initial:\n",
    "        new_value.append(value[i])\n",
    "      i += 1\n",
    "  \n",
    "  d[key] = new_value      "
   ]
  },
  {
   "cell_type": "code",
   "execution_count": 91,
   "metadata": {},
   "outputs": [],
   "source": [
    "# remove \"(see adv....\"\n",
    "for key,value in d.items():\n",
    "  n = len(value)\n",
    "  for i in range(n):\n",
    "    ls = value[i].split()\n",
    "    n2 = len(ls)\n",
    "    for j in range(n2):\n",
    "      if \"see\" in ls[j]:\n",
    "        value[i] = ' '.join(ls[:j])\n",
    "        break"
   ]
  },
  {
   "cell_type": "markdown",
   "metadata": {},
   "source": [
    "## Identify business vs person records\n",
    "\n",
    "Made an update on 27/03/20 to change the index notation.\n",
    "\n",
    "* The first letter of Company names were being removed by the function\n",
    "    * ZUCCA BROTHERS\n",
    "    * ARNAULT PETER\n",
    "    * APPELL JACOB\n",
    "    * APPLETON’S AMERICAN CYCLOPG5DIA\n",
    "    * BURTON A. B "
   ]
  },
  {
   "cell_type": "code",
   "execution_count": 93,
   "metadata": {},
   "outputs": [],
   "source": [
    "# add an index to each record\n",
    "# in another dictionary, for each index specify whether it's business or person record\n",
    "index = 1\n",
    "d_bp = []\n",
    "for key,value in d.items():\n",
    "  n = len(value)\n",
    "  for i in range(n):\n",
    "    ls = value[i].split()\n",
    "    if ls:\n",
    "      if ls[0][0] == \"*\" or (len(ls[0]) > 1 and ls[0].isupper()): # Upper case as well\n",
    "        value[i] = value[i][0:] # Changed from [0:] to [1:]\n",
    "        d_bp.append([str(index), \"b\"])\n",
    "      else:\n",
    "        d_bp.append([str(index), \"p\"])\n",
    "    \n",
    "      value[i] = str(index) + \"\\t\" + value[i]\n",
    "      index += 1"
   ]
  },
  {
   "cell_type": "markdown",
   "metadata": {},
   "source": [
    "## Save files"
   ]
  },
  {
   "cell_type": "code",
   "execution_count": 94,
   "metadata": {},
   "outputs": [],
   "source": [
    "file = open(\"input/1850/nypl_1850_bk_starred_clean.txt\", \"w\")\n",
    "for key,value in d.items():\n",
    "  file.write(key + '\\n')\n",
    "  for record in value:\n",
    "    file.write(record + '\\n')\n",
    "  file.write('\\n')\n",
    "\n",
    "file.close()\n",
    "\n",
    "file2 = open(\"input/1850/bk_index_business_person.txt\", \"w\")\n",
    "for item in d_bp:\n",
    "  file2.write(item[0] + ' ' + item[1] + '\\n')\n",
    "  \n",
    "file2.close()"
   ]
  },
  {
   "cell_type": "code",
   "execution_count": null,
   "metadata": {},
   "outputs": [],
   "source": []
  }
 ],
 "metadata": {
  "kernelspec": {
   "display_name": "Python 3",
   "language": "python",
   "name": "python3"
  },
  "language_info": {
   "codemirror_mode": {
    "name": "ipython",
    "version": 3
   },
   "file_extension": ".py",
   "mimetype": "text/x-python",
   "name": "python",
   "nbconvert_exporter": "python",
   "pygments_lexer": "ipython3",
   "version": "3.7.6"
  }
 },
 "nbformat": 4,
 "nbformat_minor": 4
}
