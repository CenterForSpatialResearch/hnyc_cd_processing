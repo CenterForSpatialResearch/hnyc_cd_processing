{
 "cells": [
  {
   "cell_type": "code",
   "execution_count": 29,
   "metadata": {},
   "outputs": [],
   "source": [
    "# Load Data\n",
    "import pickle\n",
    "with open('input/1880/final_output.pkl', 'rb') as f:\n",
    "    final_output = pickle.load(f)"
   ]
  },
  {
   "cell_type": "code",
   "execution_count": 31,
   "metadata": {
    "scrolled": true
   },
   "outputs": [
    {
     "data": {
      "text/html": [
       "<div><table id=\"09ccd39e-3f2b-4764-bd20-b96b6a5c3ed9\" class=\"display\"><thead>\n",
       "    <tr style=\"text-align: right;\">\n",
       "      <th></th>\n",
       "      <th>Full Name</th>\n",
       "      <th>First Name</th>\n",
       "      <th>Last Name</th>\n",
       "      <th>Middle Name</th>\n",
       "      <th>Widow-flag</th>\n",
       "      <th>Widow Of</th>\n",
       "      <th>Title</th>\n",
       "      <th>Occupation</th>\n",
       "      <th>Full Address</th>\n",
       "      <th>H Status-flag</th>\n",
       "      <th>H Address</th>\n",
       "      <th>H House Number</th>\n",
       "      <th>H Street Name</th>\n",
       "      <th>H City</th>\n",
       "      <th>Address 2</th>\n",
       "      <th>Address 2 House Number</th>\n",
       "      <th>Address 2 Street Name</th>\n",
       "      <th>Address 2 City</th>\n",
       "      <th>Index</th>\n",
       "      <th>Full Entry</th>\n",
       "    </tr>\n",
       "  </thead></table>\n",
       "<script type=\"text/javascript\">\n",
       "require([\"datatables\"], function (datatables) {\n",
       "    $(document).ready(function () {        \n",
       "        var dt_args = {\"columnDefs\": [{\"width\": \"70px\", \"targets\": \"_all\"}], \"paging\": false, \"data\": [[\"1\", \"Zoller Ignatz\", \"Ignatz\", \"Zoller\", \"\", \"False\", \"\", \"\", \"shoes\", \"106 W. 24th\", \"Assume\", \"106 W. 24th\", \"106\", \"W. 24th\", \"\", \"\", \"\", \"\", \"\", \"1\", \"Zoller Ignatz, shoes, 106 W. 24th\"], [\"2\", \"Zoller John\", \"John\", \"Zoller\", \"\", \"False\", \"\", \"\", \"tailor\", \"221 Ninth av.\", \"Assume\", \"221 Ninth av.\", \"221\", \"Ninth av.\", \"\", \"\", \"\", \"\", \"\", \"2\", \"Zoller John, tailor. 221 Ninth av.\"], [\"3\", \"Zoller Robert W\", \"Robert\", \"Zoller\", \"W\", \"False\", \"\", \"\", \"birds\", \"5 N. William\", \"Assume\", \"5 N. William\", \"5\", \"N. William\", \"\", \"\", \"\", \"\", \"\", \"3\", \"Zoller Robert W. birds, 5 N. William\"], [\"4\", \"Zoller Stephen\", \"Stephen\", \"Zoller\", \"\", \"False\", \"\", \"\", \"molder\", \"h r 504 W. 55th\", \"True\", \"h r 504 W. 55th\", \"504\", \"W. 55th\", \"\", \"\", \"\", \"\", \"\", \"4\", \"Zoller Stephen, molder, h r 504 W. 55th\"], [\"5\", \"Zollfrai Sarah\", \"Sarah\", \"Zollfrai\", \"\", \"False\", \"\", \"\", \"nurse\", \"h 934 First av.\", \"True\", \"h 934 First av.\", \"934\", \"First av.\", \"\", \"\", \"\", \"\", \"\", \"5\", \"Zollfrai Sarah, nurse, h 934 First av.\"]]};\n",
       "        dt_args = eval_functions(dt_args);\n",
       "        table = $('#09ccd39e-3f2b-4764-bd20-b96b6a5c3ed9').DataTable(dt_args);\n",
       "    });\n",
       "})\n",
       "</script>\n",
       "</div>\n"
      ],
      "text/plain": [
       "         Full Name First Name Last Name Middle Name Widow-flag Widow Of Title  \\\n",
       "1    Zoller Ignatz     Ignatz    Zoller                  False                  \n",
       "2      Zoller John       John    Zoller                  False                  \n",
       "3  Zoller Robert W     Robert    Zoller           W      False                  \n",
       "4   Zoller Stephen    Stephen    Zoller                  False                  \n",
       "5   Zollfrai Sarah      Sarah  Zollfrai                  False                  \n",
       "\n",
       "  Occupation     Full Address H Status-flag        H Address H House Number  \\\n",
       "1      shoes      106 W. 24th        Assume      106 W. 24th            106   \n",
       "2     tailor    221 Ninth av.        Assume    221 Ninth av.            221   \n",
       "3      birds     5 N. William        Assume     5 N. William              5   \n",
       "4     molder  h r 504 W. 55th          True  h r 504 W. 55th            504   \n",
       "5      nurse  h 934 First av.          True  h 934 First av.            934   \n",
       "\n",
       "  H Street Name H City Address 2 Address 2 House Number Address 2 Street Name  \\\n",
       "1       W. 24th                                                                 \n",
       "2     Ninth av.                                                                 \n",
       "3    N. William                                                                 \n",
       "4       W. 55th                                                                 \n",
       "5     First av.                                                                 \n",
       "\n",
       "  Address 2 City Index                               Full Entry  \n",
       "1                    1        Zoller Ignatz, shoes, 106 W. 24th  \n",
       "2                    2       Zoller John, tailor. 221 Ninth av.  \n",
       "3                    3     Zoller Robert W. birds, 5 N. William  \n",
       "4                    4  Zoller Stephen, molder, h r 504 W. 55th  \n",
       "5                    5   Zollfrai Sarah, nurse, h 934 First av.  "
      ]
     },
     "execution_count": 31,
     "metadata": {},
     "output_type": "execute_result"
    }
   ],
   "source": [
    "final_output.head()"
   ]
  },
  {
   "cell_type": "code",
   "execution_count": 8,
   "metadata": {},
   "outputs": [
    {
     "data": {
      "text/plain": [
       "(266599, 20)"
      ]
     },
     "execution_count": 8,
     "metadata": {},
     "output_type": "execute_result"
    }
   ],
   "source": [
    "final_output.shape"
   ]
  },
  {
   "cell_type": "markdown",
   "metadata": {},
   "source": [
    "There are 266,599 rows and 20 columns"
   ]
  },
  {
   "cell_type": "code",
   "execution_count": 10,
   "metadata": {},
   "outputs": [
    {
     "name": "stdout",
     "output_type": "stream",
     "text": [
      "Full Name                 False\n",
      "First Name                False\n",
      "Last Name                 False\n",
      "Middle Name               False\n",
      "Widow-flag                False\n",
      "Widow Of                  False\n",
      "Title                     False\n",
      "Occupation                False\n",
      "Full Address              False\n",
      "H Status-flag             False\n",
      "H Address                 False\n",
      "H House Number            False\n",
      "H Street Name             False\n",
      "H City                    False\n",
      "Address 2                 False\n",
      "Address 2 House Number    False\n",
      "Address 2 Street Name     False\n",
      "Address 2 City            False\n",
      "Index                     False\n",
      "Full Entry                False\n",
      "dtype: bool\n"
     ]
    }
   ],
   "source": [
    "print(final_output.isna().any())"
   ]
  },
  {
   "cell_type": "code",
   "execution_count": 17,
   "metadata": {},
   "outputs": [
    {
     "data": {
      "text/plain": [
       "                                  0.147364\n",
       "laborer                           0.056744\n",
       "clerk                             0.051763\n",
       "tailor                            0.030713\n",
       "driver                            0.025176\n",
       "                                    ...   \n",
       "paper ruling and bookbinding      0.000004\n",
       "la                                0.000004\n",
       "lawyer Tryon row & drugs          0.000004\n",
       "lawyer notary and commissioner    0.000004\n",
       "men's furng salesrooms factory    0.000004\n",
       "Name: Occupation, Length: 7075, dtype: float64"
      ]
     },
     "execution_count": 17,
     "metadata": {},
     "output_type": "execute_result"
    }
   ],
   "source": [
    "final_output['Occupation'].value_counts(normalize = True)"
   ]
  },
  {
   "cell_type": "code",
   "execution_count": 19,
   "metadata": {},
   "outputs": [
    {
     "data": {
      "text/plain": [
       "1          \n",
       "2          \n",
       "3          \n",
       "4          \n",
       "5          \n",
       "         ..\n",
       "266595     \n",
       "266596     \n",
       "266597     \n",
       "266598     \n",
       "266599     \n",
       "Name: Title, Length: 266599, dtype: object"
      ]
     },
     "execution_count": 19,
     "metadata": {},
     "output_type": "execute_result"
    }
   ],
   "source": [
    "final_output['Title']"
   ]
  },
  {
   "cell_type": "code",
   "execution_count": null,
   "metadata": {},
   "outputs": [],
   "source": []
  }
 ],
 "metadata": {
  "kernelspec": {
   "display_name": "Python 3",
   "language": "python",
   "name": "python3"
  },
  "language_info": {
   "codemirror_mode": {
    "name": "ipython",
    "version": 3
   },
   "file_extension": ".py",
   "mimetype": "text/x-python",
   "name": "python",
   "nbconvert_exporter": "python",
   "pygments_lexer": "ipython3",
   "version": "3.7.6"
  }
 },
 "nbformat": 4,
 "nbformat_minor": 4
}
