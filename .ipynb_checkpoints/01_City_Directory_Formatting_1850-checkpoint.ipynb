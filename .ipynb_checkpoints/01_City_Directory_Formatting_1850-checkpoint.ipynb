{
 "cells": [
  {
   "cell_type": "code",
   "execution_count": 1,
   "metadata": {},
   "outputs": [
    {
     "name": "stdout",
     "output_type": "stream",
     "text": [
      "input/1850/nypl_1850_51_split_v2.txt\r\n"
     ]
    }
   ],
   "source": [
    "!ls \"input/1850/nypl_1850_51_split_v2.txt\""
   ]
  },
  {
   "cell_type": "code",
   "execution_count": 2,
   "metadata": {},
   "outputs": [],
   "source": [
    "#load data\n",
    "import glob # import glob to retrieve files/pathnames matching a specified pattern\n",
    "file_path = \"input/1850/nypl_1850_51_split_v2.txt\"\n",
    "with open(file_path) as f:\n",
    "  data = f.readlines()  "
   ]
  },
  {
   "cell_type": "code",
   "execution_count": 5,
   "metadata": {},
   "outputs": [
    {
     "name": "stdout",
     "output_type": "stream",
     "text": [
      "['NAMES TOO\\n', 'Ackley Addison, clerk, 47 Broadway, h. 39 Pearl\\u2028Adams William, weigher, 20 Washington & 13 West,\\u2028h. 170 Clinton, Brooklyn\\n', 'Aitkin Thomas, stonecutter, 601 Washington\\n', 'Albro Benjamin sen. 328 Bowery\\n', 'Allen E. W. publisher, 42 Orange\\n', 'Anderson Frederick 11. com. mer. 13 Front, h. 77\\u2028Barrow\\n', 'Anderson John R. seaman, 586 E. 4th\\n', 'Anthes Peter, barber 34 Av. C\\n', 'Anthes & Eckardt, barbers, 34 Av. C\\n', 'Appell John, tailor, 40 Av. C\\n']\n"
     ]
    }
   ],
   "source": [
    "print(data[0:10])"
   ]
  },
  {
   "cell_type": "code",
   "execution_count": 16,
   "metadata": {},
   "outputs": [
    {
     "data": {
      "text/plain": [
       "(47603, 1)"
      ]
     },
     "execution_count": 16,
     "metadata": {},
     "output_type": "execute_result"
    }
   ],
   "source": [
    "import pandas as pd\n",
    "pd.DataFrame(data).shape"
   ]
  },
  {
   "cell_type": "markdown",
   "metadata": {},
   "source": [
    "There are 47,603 rows"
   ]
  },
  {
   "cell_type": "markdown",
   "metadata": {},
   "source": [
    "## Divide records into different sections based on first letter"
   ]
  },
  {
   "cell_type": "code",
   "execution_count": 28,
   "metadata": {},
   "outputs": [],
   "source": [
    "data[0] = 'A.'\n",
    "import re\n",
    "\n",
    "d = {}\n",
    "value = []\n",
    "i = 0\n",
    "for line in data:\n",
    "  line = line.strip()\n",
    "  if line:\n",
    "    if len(line) < 3: \n",
    "      # 1850 data is not split by '***' instead it is split by 'B., C., D.'\n",
    "      if bool(re.match(\"([A-Z]+\\.)\", line)) == True:\n",
    "        # save previous value\n",
    "        if value:\n",
    "          if value[0] == \"'\":\n",
    "            value = value[1:]\n",
    "          d[key] = value\n",
    "        \n",
    "        key = line\n",
    "        value = []\n",
    "    else:\n",
    "      value.append(line)"
   ]
  },
  {
   "cell_type": "code",
   "execution_count": 30,
   "metadata": {},
   "outputs": [
    {
     "data": {
      "text/plain": [
       "<function dict.items>"
      ]
     },
     "execution_count": 30,
     "metadata": {},
     "output_type": "execute_result"
    }
   ],
   "source": [
    "d.items"
   ]
  },
  {
   "cell_type": "markdown",
   "metadata": {},
   "source": [
    "## Combline lines that belong to the same record\n",
    "\n",
    "Criteria:\n",
    "\n",
    "1) First letter of next line not equal to the initial letter in this section\n",
    "\n",
    "2) Special cases in the start of next line: B’klyn, B'way, E., W."
   ]
  },
  {
   "cell_type": "code",
   "execution_count": 31,
   "metadata": {},
   "outputs": [],
   "source": [
    "for key,value in d.items():\n",
    "  initial = key[0]\n",
    "  new_value = []\n",
    "  n = len(value)\n",
    "  i = 0\n",
    "  \n",
    "  while i < n:\n",
    "    if i < n-1:\n",
    "      if (value[i+1][0] != initial and value[i+1][0] != \"*\") or (value[i+1][0:2] in [\"B’\", \"E.\", \"W.\"]) or (value[i+1][0:2] == \". \"):\n",
    "        if value[i][-1] == \"-\":\n",
    "          s = value[i][:-1] + value[i+1]\n",
    "        else:\n",
    "          s = value[i] + ' ' + value[i+1]\n",
    "        new_value.append(s)\n",
    "        i += 2\n",
    "      else:\n",
    "        new_value.append(value[i])\n",
    "        i += 1 \n",
    "    else:\n",
    "      if value[i][0] == initial:\n",
    "        new_value.append(value[i])\n",
    "      i += 1\n",
    "  \n",
    "  d[key] = new_value      "
   ]
  },
  {
   "cell_type": "code",
   "execution_count": 32,
   "metadata": {},
   "outputs": [],
   "source": [
    "# remove \"(see adv....\"\n",
    "for key,value in d.items():\n",
    "  n = len(value)\n",
    "  for i in range(n):\n",
    "    ls = value[i].split()\n",
    "    n2 = len(ls)\n",
    "    for j in range(n2):\n",
    "      if \"see\" in ls[j]:\n",
    "        value[i] = ' '.join(ls[:j])\n",
    "        break"
   ]
  },
  {
   "cell_type": "markdown",
   "metadata": {},
   "source": [
    "## Identify business vs person records\n",
    "\n",
    "Made an update on 27/03/20 to change the index notation.\n",
    "\n",
    "* The first letter of Company names were being removed by the function\n",
    "    * ZUCCA BROTHERS\n",
    "    * ARNAULT PETER\n",
    "    * APPELL JACOB\n",
    "    * APPLETON’S AMERICAN CYCLOPG5DIA\n",
    "    * BURTON A. B "
   ]
  },
  {
   "cell_type": "code",
   "execution_count": 33,
   "metadata": {},
   "outputs": [],
   "source": [
    "# add an index to each record\n",
    "# in another dictionary, for each index specify whether it's business or person record\n",
    "index = 1\n",
    "d_bp = []\n",
    "for key,value in d.items():\n",
    "  n = len(value)\n",
    "  for i in range(n):\n",
    "    ls = value[i].split()\n",
    "    if ls:\n",
    "      if ls[0][0] == \"*\" or (len(ls[0]) > 1 and ls[0].isupper()): # Upper case as well\n",
    "        value[i] = value[i][0:] # Changed from [0:] to [1:]\n",
    "        d_bp.append([str(index), \"b\"])\n",
    "      else:\n",
    "        d_bp.append([str(index), \"p\"])\n",
    "    \n",
    "      value[i] = str(index) + \"\\t\" + value[i]\n",
    "      index += 1"
   ]
  },
  {
   "cell_type": "markdown",
   "metadata": {},
   "source": [
    "## Save files"
   ]
  },
  {
   "cell_type": "code",
   "execution_count": 34,
   "metadata": {},
   "outputs": [],
   "source": [
    "file = open(\"input/1850/nypl_1850_51_starred_clean.txt\", \"w\")\n",
    "for key,value in d.items():\n",
    "  file.write(key + '\\n')\n",
    "  for record in value:\n",
    "    file.write(record + '\\n')\n",
    "  file.write('\\n')\n",
    "\n",
    "file.close()\n",
    "\n",
    "file2 = open(\"input/1850/index_business_person.txt\", \"w\")\n",
    "for item in d_bp:\n",
    "  file2.write(item[0] + ' ' + item[1] + '\\n')\n",
    "  \n",
    "file2.close()"
   ]
  },
  {
   "cell_type": "code",
   "execution_count": null,
   "metadata": {},
   "outputs": [],
   "source": []
  }
 ],
 "metadata": {
  "kernelspec": {
   "display_name": "Python 3",
   "language": "python",
   "name": "python3"
  },
  "language_info": {
   "codemirror_mode": {
    "name": "ipython",
    "version": 3
   },
   "file_extension": ".py",
   "mimetype": "text/x-python",
   "name": "python",
   "nbconvert_exporter": "python",
   "pygments_lexer": "ipython3",
   "version": "3.7.6"
  }
 },
 "nbformat": 4,
 "nbformat_minor": 4
}
