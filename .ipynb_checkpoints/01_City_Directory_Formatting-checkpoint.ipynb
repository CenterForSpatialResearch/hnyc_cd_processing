{
 "cells": [
  {
   "cell_type": "markdown",
   "metadata": {
    "colab_type": "text",
    "id": "eyti-9SeJpIe"
   },
   "source": [
    "# Dewrapping lines"
   ]
  },
  {
   "cell_type": "code",
   "execution_count": 15,
   "metadata": {
    "colab": {
     "base_uri": "https://localhost:8080/",
     "height": 124
    },
    "colab_type": "code",
    "id": "vVAM7Z0jx3nW",
    "outputId": "a8ccf416-5052-48bb-df1a-d1168089adce"
   },
   "outputs": [],
   "source": [
    "#get authorization from google drive\n",
    "#from google.colab import drive\n",
    "#drive.mount('/content/drive')"
   ]
  },
  {
   "cell_type": "code",
   "execution_count": 16,
   "metadata": {
    "colab": {
     "base_uri": "https://localhost:8080/",
     "height": 35
    },
    "colab_type": "code",
    "id": "e3fF-Ph_3-z0",
    "outputId": "b012f768-d012-491c-e5f4-ca4d0d2e1f6f",
    "scrolled": false
   },
   "outputs": [
    {
     "name": "stdout",
     "output_type": "stream",
     "text": [
      "input/nypl_1880_81_starred.txt\r\n"
     ]
    }
   ],
   "source": [
    "!ls \"input/nypl_1880_81_starred.txt\""
   ]
  },
  {
   "cell_type": "code",
   "execution_count": 17,
   "metadata": {
    "colab": {},
    "colab_type": "code",
    "id": "3Z2TU9BL2L08"
   },
   "outputs": [],
   "source": [
    "#load data\n",
    "import glob\n",
    "file_path = \"input/nypl_1880_81_starred.txt\"\n",
    "with open(file_path) as f:\n",
    "  data = f.readlines()  "
   ]
  },
  {
   "cell_type": "code",
   "execution_count": 39,
   "metadata": {},
   "outputs": [
    {
     "name": "stdout",
     "output_type": "stream",
     "text": [
      "['Z***\\n', 'Zoller Ignatz, shoes, 106 W. 24th\\n', 'Zoller John, tailor. 221 Ninth av.\\n', 'Zoller Robert W. birds, 5 N. William\\n', 'Zoller Stephen, molder, h r 504 W. 55th\\n', 'Zollfrai Sarah, nurse, h 934 First av.\\n', 'Zollfroi Abraham, pedlar, h 202 Seventh\\n', 'Zollfrey Moses, cutter, h 208 E. 49th\\n', 'Zollie Louis, h r 10 Dominick\\n']\n"
     ]
    }
   ],
   "source": [
    "print(data[1:10])"
   ]
  },
  {
   "cell_type": "markdown",
   "metadata": {
    "colab_type": "text",
    "id": "YeJwkxljLSjO"
   },
   "source": [
    "## Divide records into different sections based on first letter"
   ]
  },
  {
   "cell_type": "code",
   "execution_count": 19,
   "metadata": {
    "colab": {},
    "colab_type": "code",
    "id": "NTNwCio24uws"
   },
   "outputs": [],
   "source": [
    "d = {}\n",
    "value = []\n",
    "i = 0\n",
    "for line in data:\n",
    "  line = line.strip()\n",
    "  if line:\n",
    "    if len(line) < 6:\n",
    "      if line[-3:] == \"***\":\n",
    "        # save previous value\n",
    "        if value:\n",
    "          if value[0] == \"'\":\n",
    "            value = value[1:]\n",
    "          d[key] = value\n",
    "        \n",
    "        key = line\n",
    "        value = []\n",
    "    else:\n",
    "      value.append(line)"
   ]
  },
  {
   "cell_type": "markdown",
   "metadata": {
    "colab_type": "text",
    "id": "8KpVMPFkMD8s"
   },
   "source": [
    "## Combline lines that belong to the same record\n",
    "\n",
    "Criteria:\n",
    "\n",
    "1) First letter of next line not equal to the initial letter in this section\n",
    "\n",
    "2) Special cases in the start of next line: B’klyn, B'way, E., W."
   ]
  },
  {
   "cell_type": "code",
   "execution_count": 20,
   "metadata": {
    "colab": {},
    "colab_type": "code",
    "id": "uUiBdjgkpoVZ"
   },
   "outputs": [],
   "source": [
    "for key,value in d.items():\n",
    "  initial = key[0]\n",
    "  new_value = []\n",
    "  n = len(value)\n",
    "  i = 0\n",
    "  \n",
    "  while i < n:\n",
    "    if i < n-1:\n",
    "      if (value[i+1][0] != initial and value[i+1][0] != \"*\") or (value[i+1][0:2] in [\"B’\", \"E.\", \"W.\"]) or (value[i+1][0:2] == \". \"):\n",
    "        if value[i][-1] == \"-\":\n",
    "          s = value[i][:-1] + value[i+1]\n",
    "        else:\n",
    "          s = value[i] + ' ' + value[i+1]\n",
    "        new_value.append(s)\n",
    "        i += 2\n",
    "      else:\n",
    "        new_value.append(value[i])\n",
    "        i += 1 \n",
    "    else:\n",
    "      if value[i][0] == initial:\n",
    "        new_value.append(value[i])\n",
    "      i += 1\n",
    "  \n",
    "  d[key] = new_value      "
   ]
  },
  {
   "cell_type": "code",
   "execution_count": 21,
   "metadata": {
    "colab": {},
    "colab_type": "code",
    "id": "PM3LpGT3GVuX"
   },
   "outputs": [],
   "source": [
    "#remove \"(see adv....\"\n",
    "for key,value in d.items():\n",
    "  n = len(value)\n",
    "  for i in range(n):\n",
    "    ls = value[i].split()\n",
    "    n2 = len(ls)\n",
    "    for j in range(n2):\n",
    "      if \"see\" in ls[j]:\n",
    "        value[i] = ' '.join(ls[:j])\n",
    "        break"
   ]
  },
  {
   "cell_type": "markdown",
   "metadata": {
    "colab_type": "text",
    "id": "A9rdB_OYMywp"
   },
   "source": [
    "## Identify business vs person records"
   ]
  },
  {
   "cell_type": "code",
   "execution_count": 22,
   "metadata": {
    "colab": {},
    "colab_type": "code",
    "id": "RYSrV_ttMw8_"
   },
   "outputs": [],
   "source": [
    "# add an index to each record\n",
    "# in another dictionary, for each index specify whether it's business or person record\n",
    "index = 1\n",
    "d_bp = []\n",
    "for key,value in d.items():\n",
    "  n = len(value)\n",
    "  for i in range(n):\n",
    "    ls = value[i].split()\n",
    "    if ls:\n",
    "      if ls[0][0] == \"*\" or (len(ls[0]) > 1 and ls[0].isupper()):\n",
    "        value[i] = value[i][1:]\n",
    "        d_bp.append([str(index), \"b\"])\n",
    "      else:\n",
    "        d_bp.append([str(index), \"p\"])\n",
    "    \n",
    "      value[i] = str(index) + \"\\t\" + value[i]\n",
    "      index += 1"
   ]
  },
  {
   "cell_type": "markdown",
   "metadata": {
    "colab_type": "text",
    "id": "UnId2JNsM5kk"
   },
   "source": [
    "## Save files"
   ]
  },
  {
   "cell_type": "code",
   "execution_count": 23,
   "metadata": {
    "colab": {},
    "colab_type": "code",
    "id": "8WFua44mrjDw"
   },
   "outputs": [],
   "source": [
    "file = open(\"input/nypl_1880_81_starred_clean.txt\", \"w\")\n",
    "for key,value in d.items():\n",
    "  file.write(key + '\\n')\n",
    "  for record in value:\n",
    "    file.write(record + '\\n')\n",
    "  file.write('\\n')\n",
    "\n",
    "file.close()\n",
    "\n",
    "file2 = open(\"input/index_business_person.txt\", \"w\")\n",
    "for item in d_bp:\n",
    "  file2.write(item[0] + ' ' + item[1] + '\\n')\n",
    "  \n",
    "file2.close()"
   ]
  }
 ],
 "metadata": {
  "colab": {
   "collapsed_sections": [],
   "name": "City_Directory_Formatting.ipynb",
   "provenance": []
  },
  "kernelspec": {
   "display_name": "Python 3",
   "language": "python",
   "name": "python3"
  },
  "language_info": {
   "codemirror_mode": {
    "name": "ipython",
    "version": 3
   },
   "file_extension": ".py",
   "mimetype": "text/x-python",
   "name": "python",
   "nbconvert_exporter": "python",
   "pygments_lexer": "ipython3",
   "version": "3.7.4"
  }
 },
 "nbformat": 4,
 "nbformat_minor": 1
}
