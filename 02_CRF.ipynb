{
 "cells": [
  {
   "cell_type": "code",
   "execution_count": 0,
   "metadata": {
    "colab": {
     "base_uri": "https://localhost:8080/",
     "height": 211
    },
    "colab_type": "code",
    "id": "zZXzKiOq-Q3E",
    "outputId": "63b00906-2ed4-4bde-c990-0aca807c2a44"
   },
   "outputs": [
    {
     "name": "stdout",
     "output_type": "stream",
     "text": [
      "Collecting sklearn-crfsuite\n",
      "  Downloading https://files.pythonhosted.org/packages/25/74/5b7befa513482e6dee1f3dd68171a6c9dfc14c0eaa00f885ffeba54fe9b0/sklearn_crfsuite-0.3.6-py2.py3-none-any.whl\n",
      "Requirement already satisfied: tabulate in /usr/local/lib/python3.6/dist-packages (from sklearn-crfsuite) (0.8.6)\n",
      "Requirement already satisfied: six in /usr/local/lib/python3.6/dist-packages (from sklearn-crfsuite) (1.12.0)\n",
      "Requirement already satisfied: tqdm>=2.0 in /usr/local/lib/python3.6/dist-packages (from sklearn-crfsuite) (4.28.1)\n",
      "Collecting python-crfsuite>=0.8.3\n",
      "\u001b[?25l  Downloading https://files.pythonhosted.org/packages/2f/86/cfcd71edca9d25d3d331209a20f6314b6f3f134c29478f90559cee9ce091/python_crfsuite-0.9.6-cp36-cp36m-manylinux1_x86_64.whl (754kB)\n",
      "\u001b[K     |████████████████████████████████| 757kB 4.1MB/s \n",
      "\u001b[?25hInstalling collected packages: python-crfsuite, sklearn-crfsuite\n",
      "Successfully installed python-crfsuite-0.9.6 sklearn-crfsuite-0.3.6\n"
     ]
    }
   ],
   "source": [
    "!pip install sklearn-crfsuite"
   ]
  },
  {
   "cell_type": "code",
   "execution_count": 0,
   "metadata": {
    "colab": {
     "base_uri": "https://localhost:8080/",
     "height": 124
    },
    "colab_type": "code",
    "id": "8BmwMVuCAY2f",
    "outputId": "f8ba00d8-7e1b-48d9-824b-90b47e7890d0"
   },
   "outputs": [
    {
     "name": "stdout",
     "output_type": "stream",
     "text": [
      "Go to this URL in a browser: https://accounts.google.com/o/oauth2/auth?client_id=947318989803-6bn6qk8qdgf4n4g3pfee6491hc0brc4i.apps.googleusercontent.com&redirect_uri=urn%3aietf%3awg%3aoauth%3a2.0%3aoob&response_type=code&scope=email%20https%3a%2f%2fwww.googleapis.com%2fauth%2fdocs.test%20https%3a%2f%2fwww.googleapis.com%2fauth%2fdrive%20https%3a%2f%2fwww.googleapis.com%2fauth%2fdrive.photos.readonly%20https%3a%2f%2fwww.googleapis.com%2fauth%2fpeopleapi.readonly\n",
      "\n",
      "Enter your authorization code:\n",
      "··········\n",
      "Mounted at /content/drive\n"
     ]
    }
   ],
   "source": [
    "#get authorization from google drive\n",
    "from google.colab import drive\n",
    "drive.mount('/content/drive')"
   ]
  },
  {
   "cell_type": "code",
   "execution_count": 0,
   "metadata": {
    "colab": {},
    "colab_type": "code",
    "id": "xfiqygIL-Hy3"
   },
   "outputs": [],
   "source": [
    "import nltk\n",
    "import sklearn_crfsuite\n",
    "from sklearn_crfsuite import metrics\n",
    "from sklearn.metrics import make_scorer\n",
    "from sklearn.model_selection import RandomizedSearchCV\n",
    "import pandas as pd\n",
    "import scipy\n",
    "import pickle\n",
    "import json"
   ]
  },
  {
   "cell_type": "markdown",
   "metadata": {
    "colab_type": "text",
    "id": "RtYP0HkMN0ys"
   },
   "source": [
    "#Prepare data and features"
   ]
  },
  {
   "cell_type": "code",
   "execution_count": 0,
   "metadata": {
    "colab": {},
    "colab_type": "code",
    "id": "wOYnLSdY-vt3"
   },
   "outputs": [],
   "source": [
    "#prepare training and test data\n",
    "def prepare_data(path):\n",
    "  df = pd.read_csv(path, engine = \"python\")\n",
    "  sents = []\n",
    "  record = []\n",
    "  cur = df['number'][0]\n",
    "  for index,row in df.iterrows():\n",
    "    if row['number'] != cur:\n",
    "      sents.append(record)\n",
    "      record = [(row['pos'], row['tag'])]\n",
    "    else:\n",
    "      record.append((row['pos'], row['tag']))\n",
    "    cur = row['number']\n",
    "  sents.append(record)\n",
    "\n",
    "  return sents"
   ]
  },
  {
   "cell_type": "code",
   "execution_count": 0,
   "metadata": {
    "colab": {
     "base_uri": "https://localhost:8080/",
     "height": 52
    },
    "colab_type": "code",
    "id": "BsgMcSECFDtR",
    "outputId": "1b5b9596-e1e6-4b15-b254-c5277deb678d"
   },
   "outputs": [
    {
     "name": "stdout",
     "output_type": "stream",
     "text": [
      "1880_train.csv       City_Directory_Formatting.ipynb  prediction.pkl\n",
      "1880_validation.csv  CRF.ipynb                        result.json\n"
     ]
    }
   ],
   "source": [
    "ls \"/content/drive/My Drive/cd_processing/Scripts/1880\""
   ]
  },
  {
   "cell_type": "code",
   "execution_count": 0,
   "metadata": {
    "colab": {},
    "colab_type": "code",
    "id": "E6C5MTMPApls"
   },
   "outputs": [],
   "source": [
    "train_sents = prepare_data(\"/content/drive/My Drive/cd_processing/Scripts/1880/1880_train.csv\")\n",
    "validation_sents = prepare_data(\"/content/drive/My Drive/cd_processing/Scripts/1880/1880_validation.csv\")"
   ]
  },
  {
   "cell_type": "markdown",
   "metadata": {
    "colab_type": "text",
    "id": "aYrXbrUA4Zpu"
   },
   "source": [
    "An example of training data"
   ]
  },
  {
   "cell_type": "code",
   "execution_count": 0,
   "metadata": {
    "colab": {
     "base_uri": "https://localhost:8080/",
     "height": 191
    },
    "colab_type": "code",
    "id": "E_EoJNgcMmvC",
    "outputId": "a14a01af-9925-4c76-bc51-63a49e4156a2"
   },
   "outputs": [
    {
     "data": {
      "text/plain": [
       "[('START', 'START'),\n",
       " ('Otersen', 'NC'),\n",
       " ('Casten', 'NC'),\n",
       " (',', 'D'),\n",
       " ('produce', 'OC'),\n",
       " (',', 'D'),\n",
       " ('h', 'PA'),\n",
       " ('149', 'AC'),\n",
       " ('Franklin', 'AC'),\n",
       " ('END', 'END')]"
      ]
     },
     "execution_count": 7,
     "metadata": {
      "tags": []
     },
     "output_type": "execute_result"
    }
   ],
   "source": [
    "train_sents[0]"
   ]
  },
  {
   "cell_type": "markdown",
   "metadata": {
    "colab_type": "text",
    "id": "pKX8NxpRQiUK"
   },
   "source": [
    "#Define CRF features"
   ]
  },
  {
   "cell_type": "markdown",
   "metadata": {
    "colab_type": "text",
    "id": "iQMCH24A0FdI"
   },
   "source": [
    "Feature Explanation\n",
    "\n",
    "is_junior_token: does it equal \"jr\"?\n",
    "\n",
    "is_widow_token: does it equal \"widow\"?\n",
    "\n",
    "contains_digit: does it contain any number?\n",
    "\n",
    "is_delimiter: is it a delimiter?\n",
    "\n",
    "is_start: start of record?\n",
    "\n",
    "is_end: end of record?\n",
    "\n",
    "is_lower: all lowercase letters?\n",
    "\n",
    "is_upper: all uppercase letters?\n"
   ]
  },
  {
   "cell_type": "code",
   "execution_count": 0,
   "metadata": {
    "colab": {},
    "colab_type": "code",
    "id": "pnHPUj50DAZS"
   },
   "outputs": [],
   "source": [
    "def is_junior_token(input):\n",
    "        dc = input.lower()\n",
    "        if dc == \"jr\":\n",
    "            return True\n",
    "        return False\n",
    "\n",
    "def is_widow_token(input):\n",
    "        dc = input.lower()\n",
    "        if dc == \"wid\" or dc == \"widow\":\n",
    "            return True\n",
    "        return False\n",
    "\n",
    "def contains_digit(input):\n",
    "        for c in input:\n",
    "            if c.isdigit():\n",
    "                return True\n",
    "        return False\n",
    "\n",
    "def is_delimiter(input):\n",
    "        for c in input:\n",
    "            if c == '.' or c == ',':\n",
    "                return True\n",
    "        return False\n",
    "\n",
    "def is_start(input):\n",
    "        if input == \"START\":\n",
    "            return True\n",
    "        return False\n",
    "\n",
    "def is_end(input):\n",
    "        if input == \"END\":\n",
    "            return True\n",
    "        return False"
   ]
  },
  {
   "cell_type": "markdown",
   "metadata": {
    "colab_type": "text",
    "id": "mqmuvpeb6J_2"
   },
   "source": [
    "Notice that features are not only generated on the current word, but also previous and next word."
   ]
  },
  {
   "cell_type": "code",
   "execution_count": 0,
   "metadata": {
    "colab": {},
    "colab_type": "code",
    "id": "Wlx_yIohHdZn"
   },
   "outputs": [],
   "source": [
    "def word2features(sent, i):\n",
    "    word = sent[i][0]\n",
    "\n",
    "    features = {\n",
    "        'bias': 1.0,\n",
    "        'is_junior_token': is_junior_token(word),\n",
    "        'is_widow_token': is_widow_token(word),\n",
    "        'contains_digit': contains_digit(word),\n",
    "        'is_delimiter': is_delimiter(word),\n",
    "        'is_start': is_start(word),\n",
    "        'is_end': is_end(word),\n",
    "        'is_lower': word.islower(),\n",
    "        'is_title': word.istitle(),\n",
    "        'is_upper': word.isupper(),\n",
    "        'substr[-2:]': word[-2:],\n",
    "        'substr[-1:]': word[-1:]\n",
    "    }\n",
    "\n",
    "    if i == 0:\n",
    "      features.update({'BOS':True})\n",
    "    elif i == len(sent) - 1:\n",
    "      features.update({'EOS':True})\n",
    "    else:\n",
    "      word_prev = sent[i-1][0]\n",
    "      word_next = sent[i+1][0]\n",
    "      features.update({'prev_is_lower': word_prev.islower(), \n",
    "                       'prev_is_title': word_prev.istitle(),\n",
    "                       'prev_is_upper': word_prev.isupper(),\n",
    "                       'prev_is_delimiter': is_delimiter(word_prev),\n",
    "                       'next_is_lower': word_next.islower(),\n",
    "                       'next_is_title': word_next.istitle(),\n",
    "                       'next_is_upper': word_next.isupper(),\n",
    "                       'next_contains_digit': contains_digit(word_next),\n",
    "                       'next_is_end': is_end(word_next)})\n",
    "    \n",
    "    return features\n"
   ]
  },
  {
   "cell_type": "code",
   "execution_count": 0,
   "metadata": {
    "colab": {},
    "colab_type": "code",
    "id": "ejrFDJbhMKKF"
   },
   "outputs": [],
   "source": [
    "def sent2features(sent):\n",
    "    return [word2features(sent, i) for i in range(len(sent))]\n",
    "\n",
    "def sent2labels(sent):\n",
    "    return [label for word, label in sent]"
   ]
  },
  {
   "cell_type": "code",
   "execution_count": 0,
   "metadata": {
    "colab": {},
    "colab_type": "code",
    "id": "ZxkK7LhRMu1S"
   },
   "outputs": [],
   "source": [
    "#extract features from data\n",
    "X_train = [sent2features(s) for s in train_sents]\n",
    "y_train = [sent2labels(s) for s in train_sents]\n",
    "X_validation = [sent2features(s) for s in validation_sents]\n",
    "y_validation = [sent2labels(s) for s in validation_sents]"
   ]
  },
  {
   "cell_type": "markdown",
   "metadata": {
    "colab_type": "text",
    "id": "di-QjF1vN4zT"
   },
   "source": [
    "#Training"
   ]
  },
  {
   "cell_type": "code",
   "execution_count": 0,
   "metadata": {
    "colab": {
     "base_uri": "https://localhost:8080/",
     "height": 139
    },
    "colab_type": "code",
    "id": "ushuxwHtN6QV",
    "outputId": "037234fc-22d3-4f6b-a2e2-802ce514ca07"
   },
   "outputs": [
    {
     "data": {
      "text/plain": [
       "CRF(algorithm='lbfgs', all_possible_states=None, all_possible_transitions=True,\n",
       "    averaging=None, c=None, c1=0.1, c2=0.1, calibration_candidates=None,\n",
       "    calibration_eta=None, calibration_max_trials=None, calibration_rate=None,\n",
       "    calibration_samples=None, delta=None, epsilon=None, error_sensitive=None,\n",
       "    gamma=None, keep_tempfiles=None, linesearch=None, max_iterations=500,\n",
       "    max_linesearch=None, min_freq=None, model_filename=None, num_memories=None,\n",
       "    pa_type=None, period=None, trainer_cls=None, variance=None, verbose=False)"
      ]
     },
     "execution_count": 12,
     "metadata": {
      "tags": []
     },
     "output_type": "execute_result"
    }
   ],
   "source": [
    "crf = sklearn_crfsuite.CRF(\n",
    "    algorithm='lbfgs',\n",
    "    c1=0.1,\n",
    "    c2=0.1,\n",
    "    max_iterations=500,\n",
    "    all_possible_transitions=True\n",
    ")\n",
    "crf.fit(X_train, y_train)"
   ]
  },
  {
   "cell_type": "markdown",
   "metadata": {
    "colab_type": "text",
    "id": "vvgCqHc_QMpA"
   },
   "source": [
    "#Evaluation"
   ]
  },
  {
   "cell_type": "markdown",
   "metadata": {
    "colab_type": "text",
    "id": "-pw3lnIy6Sg6"
   },
   "source": [
    "Precision, recall and f1-score are used as evaluation metrics.\n",
    "\n",
    "A detailed explanation on metrics: https://medium.com/analytics-vidhya/pos-tagging-using-conditional-random-fields-92077e5eaa31"
   ]
  },
  {
   "cell_type": "code",
   "execution_count": 0,
   "metadata": {
    "colab": {
     "base_uri": "https://localhost:8080/",
     "height": 35
    },
    "colab_type": "code",
    "id": "KyB7KOaoPL68",
    "outputId": "b4dd00cc-e1db-4ffa-c6e9-de11db884562"
   },
   "outputs": [
    {
     "data": {
      "text/plain": [
       "0.9906933631825323"
      ]
     },
     "execution_count": 13,
     "metadata": {
      "tags": []
     },
     "output_type": "execute_result"
    }
   ],
   "source": [
    "labels = list(crf.classes_)\n",
    "y_pred = crf.predict(X_validation)\n",
    "metrics.flat_f1_score(y_validation, y_pred,\n",
    "                      average='weighted', labels=labels)"
   ]
  },
  {
   "cell_type": "markdown",
   "metadata": {
    "colab_type": "text",
    "id": "m_U0Esd06-HZ"
   },
   "source": [
    "Notice that evaluation metrics are applied to each category (AC, NC, PA etc.)"
   ]
  },
  {
   "cell_type": "code",
   "execution_count": 0,
   "metadata": {
    "colab": {
     "base_uri": "https://localhost:8080/",
     "height": 260
    },
    "colab_type": "code",
    "id": "R-zibQbzPrED",
    "outputId": "3a3c0c0e-a9ce-486a-e0f7-bc150be08703"
   },
   "outputs": [
    {
     "name": "stdout",
     "output_type": "stream",
     "text": [
      "              precision    recall  f1-score   support\n",
      "\n",
      "           D      1.000     0.963     0.981        54\n",
      "          PA      1.000     1.000     1.000        21\n",
      "          AC      0.989     1.000     0.995        94\n",
      "          NC      0.975     1.000     0.988        79\n",
      "          OC      1.000     0.955     0.977        22\n",
      "         END      1.000     1.000     1.000        27\n",
      "       START      1.000     1.000     1.000        27\n",
      "\n",
      "    accuracy                          0.991       324\n",
      "   macro avg      0.995     0.988     0.991       324\n",
      "weighted avg      0.991     0.991     0.991       324\n",
      "\n"
     ]
    }
   ],
   "source": [
    "#metrics by label\n",
    "sorted_labels = sorted(\n",
    "    labels,\n",
    "    key=lambda name: (name[1:], name[0])\n",
    ")\n",
    "print(metrics.flat_classification_report(\n",
    "    y_validation, y_pred, labels=sorted_labels, digits=3\n",
    "))"
   ]
  },
  {
   "cell_type": "markdown",
   "metadata": {
    "colab_type": "text",
    "id": "rGRY5KLFH-gt"
   },
   "source": [
    "#Apply model to the whole dataset"
   ]
  },
  {
   "cell_type": "code",
   "execution_count": 0,
   "metadata": {
    "colab": {},
    "colab_type": "code",
    "id": "1JC6RAI8IBUH"
   },
   "outputs": [],
   "source": [
    "import glob\n",
    "file_path = \"/content/drive/My Drive/cd_processing/Data/hnyc/cleaning/1880/nypl_1880_81_starred_clean.txt\"\n",
    "with open(file_path) as f:\n",
    "  data = f.readlines()  "
   ]
  },
  {
   "cell_type": "markdown",
   "metadata": {
    "colab_type": "text",
    "id": "6ew6fznT7HrI"
   },
   "source": [
    "Format record to apply model."
   ]
  },
  {
   "cell_type": "code",
   "execution_count": 0,
   "metadata": {
    "colab": {},
    "colab_type": "code",
    "id": "p4d8HCIfJXjH"
   },
   "outputs": [],
   "source": [
    "formatted = []\n",
    "for record in data:\n",
    "  ls = record.split()\n",
    "  if ls:\n",
    "    if ls[0][1:] == \"***\":\n",
    "      continue\n",
    "    else:\n",
    "      record_split = []\n",
    "      for word in ls[1:]:\n",
    "        if word[-1] == \".\" or word[-1] == \",\":\n",
    "          record_split.append(word[:-1])\n",
    "          record_split.append(word[-1])\n",
    "        else:\n",
    "          record_split.append(word)\n",
    "    formatted.append([ls[0], record_split])"
   ]
  },
  {
   "cell_type": "code",
   "execution_count": 0,
   "metadata": {
    "colab": {},
    "colab_type": "code",
    "id": "ZDDNmlnGM4n3"
   },
   "outputs": [],
   "source": [
    "def predict_label(s):\n",
    "  sents = [[(word,0) for word in s]]\n",
    "  sents[0].insert(0, ('START',0))\n",
    "  sents[0].append(('END', 0))\n",
    "  X = [sent2features(s) for s in sents]\n",
    "  y = crf.predict(X)\n",
    "  return y"
   ]
  },
  {
   "cell_type": "code",
   "execution_count": 0,
   "metadata": {
    "colab": {},
    "colab_type": "code",
    "id": "JqQBBEOlNPNI"
   },
   "outputs": [],
   "source": [
    "n = len(formatted)\n",
    "for i in range(n):\n",
    "  labels = predict_label(formatted[i][1])\n",
    "  formatted[i].append(labels[0])"
   ]
  },
  {
   "cell_type": "code",
   "execution_count": 0,
   "metadata": {
    "colab": {},
    "colab_type": "code",
    "id": "le5tVDzuN3vx"
   },
   "outputs": [],
   "source": [
    "#pickle the list to save preliminary result\n",
    "with open(\"/content/drive/My Drive/cd_processing/Scripts/1880/prediction.pkl\", \"wb\") as f:\n",
    "  pickle.dump(formatted,f)"
   ]
  },
  {
   "cell_type": "markdown",
   "metadata": {
    "colab_type": "text",
    "id": "parQPCfXZRhq"
   },
   "source": [
    "#Save Prediction into JSON format"
   ]
  },
  {
   "cell_type": "code",
   "execution_count": 0,
   "metadata": {
    "colab": {},
    "colab_type": "code",
    "id": "Tl90wAJyP3z_"
   },
   "outputs": [],
   "source": [
    "#retrieve result\n",
    "with open(\"/content/drive/My Drive/cd_processing/Scripts/1880/prediction.pkl\", 'rb') as f:\n",
    "  d = pickle.load(f)"
   ]
  },
  {
   "cell_type": "code",
   "execution_count": 0,
   "metadata": {
    "colab": {},
    "colab_type": "code",
    "id": "67TdzrHfQkDD"
   },
   "outputs": [],
   "source": [
    "output = []\n",
    "for record in d:\n",
    "  d_record = {}\n",
    "  d_record[\"index\"] = int(record[0])\n",
    "  n = len(record[1])\n",
    "  start = 1\n",
    "  for i in range(1, n + 1):\n",
    "    if i <  n:\n",
    "      #skip delimiters\n",
    "      if record[2][i] == \"D\":\n",
    "        start = i+1\n",
    "        continue\n",
    "      elif record[2][i+1] == \"D\":\n",
    "        try:\n",
    "          d_record[record[2][i]].append(record[1][(start-1):i])\n",
    "        except:\n",
    "          d_record[record[2][i]] = [record[1][(start-1):i]]\n",
    "        start = i + 2\n",
    "    else:\n",
    "      try:\n",
    "          d_record[record[2][i]].append(record[1][(start-1):])\n",
    "      except:\n",
    "          d_record[record[2][i]] = [record[1][(start-1):]]\n",
    "\n",
    "  output.append(d_record)\n"
   ]
  },
  {
   "cell_type": "markdown",
   "metadata": {
    "colab_type": "text",
    "id": "SJXUosiERibz"
   },
   "source": [
    "#Generate primary fields\n",
    "\n",
    "Here 4 primary fields are generated to faciliate the generation of final output: Occupation, Name, Marriage_Status and Address."
   ]
  },
  {
   "cell_type": "code",
   "execution_count": 0,
   "metadata": {
    "colab": {},
    "colab_type": "code",
    "id": "QaXoEzl9ZIHv"
   },
   "outputs": [],
   "source": [
    "final = {}\n",
    "for record in output:\n",
    "  new = {}\n",
    "  try:\n",
    "    occupation = record['OC']\n",
    "    new['Occupation'] = []\n",
    "    for oc in occupation:\n",
    "      new['Occupation'].append(' '.join(oc))\n",
    "    new['Occupation'] = ' '.join(new['Occupation'])\n",
    "  except:\n",
    "    pass\n",
    "  try:\n",
    "    #deal with widow marriage status\n",
    "    name = record['NC']\n",
    "    new['Name'] = ' '.join(name[0])\n",
    "    if len(name) > 1:\n",
    "      if name[1][0] == 'widow':\n",
    "        new['Marriage_Status'] = 'widow'\n",
    "      else:\n",
    "        new['Marriage_Status'] = 'widow of ' + ' '.join(name[1][2:])\n",
    "  except:\n",
    "    pass\n",
    "\n",
    "  try:\n",
    "    #multiple address\n",
    "    address = record['AC']\n",
    "    if len(address) == 1:\n",
    "      if address[0][0] == \"h\":\n",
    "        new['Address'] = [['h', ' '.join(address[0][1:])]]\n",
    "      else:\n",
    "        new['Address'] = [['assume_h', ' '.join(address[0])]]\n",
    "    else:\n",
    "      new['Address'] = []\n",
    "      for ad in address:\n",
    "        if ad[0] == \"h\":\n",
    "          new['Address'].append(['h', ' '.join(ad[1:])])\n",
    "        else:\n",
    "          new['Address'].append(['w', ' '.join(ad)])\n",
    "  except:\n",
    "    pass\n",
    "  \n",
    "  final[str(record['index'])] = new"
   ]
  },
  {
   "cell_type": "code",
   "execution_count": 0,
   "metadata": {
    "colab": {},
    "colab_type": "code",
    "id": "sHrFX5ud3WCm"
   },
   "outputs": [],
   "source": [
    "with open('/content/drive/My Drive/cd_processing/Scripts/1880/result.json', 'w') as f:\n",
    "    json.dump(final,f)\n",
    "f.close()"
   ]
  },
  {
   "cell_type": "code",
   "execution_count": 0,
   "metadata": {
    "colab": {},
    "colab_type": "code",
    "id": "ZFCZN68L5deB"
   },
   "outputs": [],
   "source": [
    "with open('/content/drive/My Drive/cd_processing/Scripts/1880/result.json', 'r') as f:\n",
    "    d = json.load(f)\n",
    "f.close()"
   ]
  },
  {
   "cell_type": "code",
   "execution_count": 0,
   "metadata": {
    "colab": {
     "base_uri": "https://localhost:8080/",
     "height": 35
    },
    "colab_type": "code",
    "id": "9zWp26tv5uG8",
    "outputId": "3d0607c0-327d-4ad2-9ac0-50a404ab20eb"
   },
   "outputs": [
    {
     "data": {
      "text/plain": [
       "{'Address': [['assume_h', 'Y*oung Alfred (Rev.) h W . 59th n Ninth av .']]}"
      ]
     },
     "execution_count": 26,
     "metadata": {
      "tags": []
     },
     "output_type": "execute_result"
    }
   ],
   "source": [
    "'''\n",
    "11\n",
    "115\n",
    "450\n",
    "711\n",
    "1044\n",
    "1570\n",
    "'''\n",
    "d['1570']"
   ]
  },
  {
   "cell_type": "markdown",
   "metadata": {
    "colab_type": "text",
    "id": "LgGJkj7uSdLQ"
   },
   "source": [
    "#Some examples"
   ]
  },
  {
   "cell_type": "code",
   "execution_count": 0,
   "metadata": {
    "colab": {
     "base_uri": "https://localhost:8080/",
     "height": 711
    },
    "colab_type": "code",
    "id": "IhnPUWMjzVrb",
    "outputId": "eb1d86bd-ada7-4da3-f613-2c6f0719308c"
   },
   "outputs": [
    {
     "name": "stdout",
     "output_type": "stream",
     "text": [
      "Woodruff Job , clerk , h 39 W . 43d\n",
      "{'Occupation': 'clerk', 'Name': 'Woodruff Job', 'Address': [['h', '39 W . 43d']]}\n",
      "\n",
      "\n",
      "Woodruff John , carpenter , h 2486 Second av .\n",
      "{'Occupation': 'carpenter', 'Name': 'Woodruff John', 'Address': [['h', '2486 Second av .']]}\n",
      "\n",
      "\n",
      "Woodruff Lucius L . stamps , 90 Nassau , h Col .\n",
      "{'Occupation': 'stamps', 'Name': 'Woodruff Lucius L', 'Address': [['w', '90 Nassau'], ['h', 'Col .']]}\n",
      "\n",
      "\n",
      "Woodruff Mahlon J . manager , 45 Chambers , h 310 Washn . av . B'klyn\n",
      "{'Occupation': 'manager', 'Name': 'Woodruff Mahlon J', 'Address': [['w', '45 Chambers'], ['h', \"310 Washn . av . B'klyn\"]]}\n",
      "\n",
      "\n",
      "Woodruff Marcus P . mer . 31 B’way , h Larchmont\n",
      "{'Occupation': 'mer', 'Name': 'Woodruff Marcus P', 'Address': [['w', '31 B’way'], ['h', 'Larchmont']]}\n",
      "\n",
      "\n",
      "Woodruff Margaret , wid . David , h 653 Hudson\n",
      "{'Name': 'Woodruff Margaret', 'Marriage_Status': 'widow of David', 'Address': [['h', '653 Hudson']]}\n",
      "\n",
      "\n",
      "Woodruff Morris , tea . 93 Front , h 27 E . 22d\n",
      "{'Occupation': 'tea', 'Name': 'Woodruff Morris', 'Address': [['w', '93 Front'], ['h', '27 E . 22d']]}\n",
      "\n",
      "\n",
      "Woodruff S . V . clerk , h 126 W . 36th\n",
      "{'Occupation': 'clerk', 'Name': 'Woodruff S . V', 'Address': [['h', '126 W . 36th']]}\n",
      "\n",
      "\n",
      "Woodruff Sarah A . wid . John C . h 162 W . 20th\n",
      "{'Name': 'Woodruff Sarah A . wid . John C', 'Address': [['h', '162 W . 20th']]}\n",
      "\n",
      "\n",
      "Woodruff Selden , police , h 81 Vandam\n",
      "{'Occupation': 'police', 'Name': 'Woodruff Selden', 'Address': [['h', '81 Vandam']]}\n",
      "\n",
      "\n"
     ]
    }
   ],
   "source": [
    "#10 alphabetical examples\n",
    "for i in range(3100, 3110):\n",
    "  print(' '.join(formatted[i-1][1]))\n",
    "  print(final[str(i)])\n",
    "  print('\\n')"
   ]
  },
  {
   "cell_type": "code",
   "execution_count": 0,
   "metadata": {
    "colab": {
     "base_uri": "https://localhost:8080/",
     "height": 364
    },
    "colab_type": "code",
    "id": "6E5vWdgg1RoV",
    "outputId": "5eb5bd47-b74c-43a3-befb-ce6fcc60f77b"
   },
   "outputs": [
    {
     "name": "stdout",
     "output_type": "stream",
     "text": [
      "Zollinger Caroline , wid . William , h 241 W . 53d\n",
      "{'Name': 'Zollinger Caroline', 'Marriage_Status': 'widow of William', 'Address': [['h', '241 W . 53d']]}\n",
      "\n",
      "\n",
      "Wolf Mary , wid . William , drygds . 158 E . 4th\n",
      "{'Occupation': 'drygds', 'Name': 'Wolf Mary', 'Marriage_Status': 'widow of William', 'Address': [['assume_h', '158 E . 4th']]}\n",
      "\n",
      "\n",
      "Zinsser William & Co . varnishes , 197 William & 507 W . 58th\n",
      "{'Occupation': 'varnishes', 'Name': 'Zinsser William & Co', 'Address': [['assume_h', '197 William & 507 W . 58th']]}\n",
      "\n",
      "\n",
      "Yonge George , agent , 409 B’way , h 479 Willoughby av . B’klyn\n",
      "{'Occupation': 'agent', 'Name': 'Yonge George', 'Address': [['w', '409 B’way'], ['h', '479 Willoughby av . B’klyn']]}\n",
      "\n",
      "\n",
      "Witte John G . & Brother , importers of hardware cutlery and needles , 75 Chambers\n",
      "{'Occupation': 'importers of hardware cutlery and needles', 'Name': 'Witte John G . & Brother', 'Address': [['assume_h', '75 Chambers']]}\n",
      "\n",
      "\n"
     ]
    }
   ],
   "source": [
    "#5 challenging examples\n",
    "index = [11, 4123, 219, 1515, 4597]\n",
    "for i in index:\n",
    "  print(' '.join(formatted[i-1][1]))\n",
    "  print(final[str(i)])\n",
    "  print('\\n')"
   ]
  }
 ],
 "metadata": {
  "colab": {
   "collapsed_sections": [],
   "name": "CRF.ipynb",
   "provenance": []
  },
  "kernelspec": {
   "display_name": "Python 3",
   "language": "python",
   "name": "python3"
  },
  "language_info": {
   "codemirror_mode": {
    "name": "ipython",
    "version": 3
   },
   "file_extension": ".py",
   "mimetype": "text/x-python",
   "name": "python",
   "nbconvert_exporter": "python",
   "pygments_lexer": "ipython3",
   "version": "3.7.4"
  }
 },
 "nbformat": 4,
 "nbformat_minor": 1
}
