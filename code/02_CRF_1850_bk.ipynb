{
  "nbformat": 4,
  "nbformat_minor": 0,
  "metadata": {
    "colab": {
      "name": "CRF_1850_bk.ipynb",
      "provenance": [],
      "collapsed_sections": []
    },
    "kernelspec": {
      "name": "python3",
      "display_name": "Python 3"
    }
  },
  "cells": [
    {
      "cell_type": "code",
      "metadata": {
        "id": "ovudGMuqHKNl",
        "colab_type": "code",
        "colab": {
          "base_uri": "https://localhost:8080/",
          "height": 215
        },
        "outputId": "a22f39b9-dec1-4528-b37b-5d5fa8c488f6"
      },
      "source": [
        "!pip install sklearn-crfsuite"
      ],
      "execution_count": 2,
      "outputs": [
        {
          "output_type": "stream",
          "text": [
            "Collecting sklearn-crfsuite\n",
            "  Downloading https://files.pythonhosted.org/packages/25/74/5b7befa513482e6dee1f3dd68171a6c9dfc14c0eaa00f885ffeba54fe9b0/sklearn_crfsuite-0.3.6-py2.py3-none-any.whl\n",
            "Requirement already satisfied: tqdm>=2.0 in /usr/local/lib/python3.6/dist-packages (from sklearn-crfsuite) (4.41.1)\n",
            "Collecting python-crfsuite>=0.8.3\n",
            "\u001b[?25l  Downloading https://files.pythonhosted.org/packages/95/99/869dde6dbf3e0d07a013c8eebfb0a3d30776334e0097f8432b631a9a3a19/python_crfsuite-0.9.7-cp36-cp36m-manylinux1_x86_64.whl (743kB)\n",
            "\u001b[K     |████████████████████████████████| 747kB 4.1MB/s \n",
            "\u001b[?25hRequirement already satisfied: tabulate in /usr/local/lib/python3.6/dist-packages (from sklearn-crfsuite) (0.8.7)\n",
            "Requirement already satisfied: six in /usr/local/lib/python3.6/dist-packages (from sklearn-crfsuite) (1.12.0)\n",
            "Installing collected packages: python-crfsuite, sklearn-crfsuite\n",
            "Successfully installed python-crfsuite-0.9.7 sklearn-crfsuite-0.3.6\n"
          ],
          "name": "stdout"
        }
      ]
    },
    {
      "cell_type": "code",
      "metadata": {
        "id": "qVI9bc-eHTT6",
        "colab_type": "code",
        "colab": {}
      },
      "source": [
        "import nltk\n",
        "import sklearn_crfsuite\n",
        "from sklearn_crfsuite import metrics\n",
        "from sklearn.metrics import make_scorer\n",
        "from sklearn.model_selection import RandomizedSearchCV\n",
        "import pandas as pd\n",
        "import re\n",
        "import scipy\n",
        "import pickle\n",
        "import json"
      ],
      "execution_count": 3,
      "outputs": []
    },
    {
      "cell_type": "code",
      "metadata": {
        "id": "MbCJG2yrHbvs",
        "colab_type": "code",
        "colab": {}
      },
      "source": [
        "# Prepare training and test data\n",
        "def prepare_data(path):\n",
        "  df = pd.read_csv(path, engine = \"python\")\n",
        "  sents = []\n",
        "  record = []\n",
        "  cur = df['number'][0]\n",
        "  for index,row in df.iterrows():\n",
        "    if row['number'] != cur:\n",
        "      sents.append(record)\n",
        "      record = [(row['pos'], row['tag'])]\n",
        "    else:\n",
        "      record.append((row['pos'], row['tag']))\n",
        "    cur = row['number']\n",
        "  sents.append(record)\n",
        "\n",
        "  return sents"
      ],
      "execution_count": 4,
      "outputs": []
    },
    {
      "cell_type": "code",
      "metadata": {
        "id": "PFzEDT8QH2Nj",
        "colab_type": "code",
        "colab": {}
      },
      "source": [
        "train_sents = prepare_data(\"/content/1850_train_bk.csv\")\n",
        "validation_sents = prepare_data(\"/content/1850_validation_bk.csv\")"
      ],
      "execution_count": 5,
      "outputs": []
    },
    {
      "cell_type": "markdown",
      "metadata": {
        "id": "OMsIEnAyIGcW",
        "colab_type": "text"
      },
      "source": [
        "Show an example of data"
      ]
    },
    {
      "cell_type": "code",
      "metadata": {
        "id": "p0s6IgF5IJtr",
        "colab_type": "code",
        "colab": {
          "base_uri": "https://localhost:8080/",
          "height": 195
        },
        "outputId": "99a77a6a-29c4-470a-cbfb-f918826f3429"
      },
      "source": [
        "train_sents[0]"
      ],
      "execution_count": 6,
      "outputs": [
        {
          "output_type": "execute_result",
          "data": {
            "text/plain": [
              "[('START', 'START'),\n",
              " ('Otersen', 'NC'),\n",
              " ('Casten', 'NC'),\n",
              " (',', 'D'),\n",
              " ('produce', 'OC'),\n",
              " (',', 'D'),\n",
              " ('h.', 'PA'),\n",
              " ('149', 'AC'),\n",
              " ('Franklin', 'AC'),\n",
              " ('END', 'END')]"
            ]
          },
          "metadata": {
            "tags": []
          },
          "execution_count": 6
        }
      ]
    },
    {
      "cell_type": "markdown",
      "metadata": {
        "id": "FXhJzWCiIUdi",
        "colab_type": "text"
      },
      "source": [
        "Define CRF features\n",
        "Feature Explanation\n",
        "\n",
        "is_junior_token: does it equal \"jr\"?\n",
        "\n",
        "is_widow_token: does it equal \"widow\"?\n",
        "\n",
        "contains_digit: does it contain any number?\n",
        "\n",
        "is_delimiter: is it a delimiter?\n",
        "\n",
        "is_start: start of record?\n",
        "\n",
        "is_end: end of record?\n",
        "\n",
        "is_lower: all lowercase letters?\n",
        "\n",
        "is_upper: all uppercase letters?"
      ]
    },
    {
      "cell_type": "code",
      "metadata": {
        "id": "ngAaaShBITLu",
        "colab_type": "code",
        "colab": {}
      },
      "source": [
        "def is_junior_token(input):\n",
        "        dc = input.lower()\n",
        "        if dc == \"jr\":\n",
        "            return True\n",
        "        return False\n",
        "\n",
        "def is_widow_token(input):\n",
        "        dc = input.lower()\n",
        "        if dc == \"wid\" or dc == \"widow\":\n",
        "            return True\n",
        "        return False\n",
        "\n",
        "def contains_digit(input):\n",
        "        for c in input:\n",
        "            if c.isdigit():\n",
        "                return True\n",
        "        return False\n",
        "\n",
        "def is_delimiter(input):\n",
        "        for c in input:\n",
        "            if c == '.' or c == ',':\n",
        "                return True\n",
        "        return False\n",
        "\n",
        "def is_start(input):\n",
        "        if input == \"START\":\n",
        "            return True\n",
        "        return False\n",
        "\n",
        "def is_end(input):\n",
        "        if input == \"END\":\n",
        "            return True\n",
        "        return False"
      ],
      "execution_count": 7,
      "outputs": []
    },
    {
      "cell_type": "markdown",
      "metadata": {
        "id": "RZW1Y6yGIcIv",
        "colab_type": "text"
      },
      "source": [
        "Notice that features are not only generated on the current word, but also previous and next word."
      ]
    },
    {
      "cell_type": "code",
      "metadata": {
        "id": "NtBlGeReIbZ8",
        "colab_type": "code",
        "colab": {}
      },
      "source": [
        "def word2features(sent, i):\n",
        "    word = sent[i][0]\n",
        "\n",
        "    features = {\n",
        "        'bias': 1.0,\n",
        "        'is_junior_token': is_junior_token(word),\n",
        "        'is_widow_token': is_widow_token(word),\n",
        "        'contains_digit': contains_digit(word),\n",
        "        'is_delimiter': is_delimiter(word),\n",
        "        'is_start': is_start(word),\n",
        "        'is_end': is_end(word),\n",
        "        'is_lower': word.islower(),\n",
        "        'is_title': word.istitle(),\n",
        "        'is_upper': word.isupper(),\n",
        "        'substr[-2:]': word[-2:],\n",
        "        'substr[-1:]': word[-1:]\n",
        "    }\n",
        "\n",
        "    if i == 0:\n",
        "      features.update({'BOS':True})\n",
        "    elif i == len(sent) - 1:\n",
        "      features.update({'EOS':True})\n",
        "    else:\n",
        "      word_prev = sent[i-1][0]\n",
        "      word_next = sent[i+1][0]\n",
        "      features.update({'prev_is_lower': word_prev.islower(), \n",
        "                       'prev_is_title': word_prev.istitle(),\n",
        "                       'prev_is_upper': word_prev.isupper(),\n",
        "                       'prev_is_delimiter': is_delimiter(word_prev),\n",
        "                       'next_is_lower': word_next.islower(),\n",
        "                       'next_is_title': word_next.istitle(),\n",
        "                       'next_is_upper': word_next.isupper(),\n",
        "                       'next_contains_digit': contains_digit(word_next),\n",
        "                       'next_is_end': is_end(word_next)})\n",
        "    \n",
        "    return features"
      ],
      "execution_count": 8,
      "outputs": []
    },
    {
      "cell_type": "code",
      "metadata": {
        "id": "bPGM_xcCIjoZ",
        "colab_type": "code",
        "colab": {}
      },
      "source": [
        "def sent2features(sent):\n",
        "    return [word2features(sent, i) for i in range(len(sent))]\n",
        "\n",
        "def sent2labels(sent):\n",
        "    return [label for word, label in sent]"
      ],
      "execution_count": 9,
      "outputs": []
    },
    {
      "cell_type": "code",
      "metadata": {
        "id": "ZJ_fvmP_Ik3D",
        "colab_type": "code",
        "colab": {}
      },
      "source": [
        "# Extract features from data\n",
        "X_train = [sent2features(s) for s in train_sents]\n",
        "y_train = [sent2labels(s) for s in train_sents]\n",
        "X_validation = [sent2features(s) for s in validation_sents]\n",
        "y_validation = [sent2labels(s) for s in validation_sents]"
      ],
      "execution_count": 10,
      "outputs": []
    },
    {
      "cell_type": "markdown",
      "metadata": {
        "id": "4muv4bYxDDj5",
        "colab_type": "text"
      },
      "source": [
        "Training"
      ]
    },
    {
      "cell_type": "code",
      "metadata": {
        "id": "qAtsajnSIp8G",
        "colab_type": "code",
        "colab": {
          "base_uri": "https://localhost:8080/",
          "height": 197
        },
        "outputId": "c033cffa-6a09-401b-85c7-b1c744e182d3"
      },
      "source": [
        "\n",
        "crf = sklearn_crfsuite.CRF(\n",
        "    algorithm='lbfgs',\n",
        "    c1=0.1,\n",
        "    c2=0.1,\n",
        "    max_iterations=500,\n",
        "    all_possible_transitions=True\n",
        ")\n",
        "crf.fit(X_train, y_train)"
      ],
      "execution_count": 11,
      "outputs": [
        {
          "output_type": "stream",
          "text": [
            "/usr/local/lib/python3.6/dist-packages/sklearn/base.py:197: FutureWarning: From version 0.24, get_params will raise an AttributeError if a parameter cannot be retrieved as an instance attribute. Previously it would return None.\n",
            "  FutureWarning)\n"
          ],
          "name": "stderr"
        },
        {
          "output_type": "execute_result",
          "data": {
            "text/plain": [
              "CRF(algorithm='lbfgs', all_possible_states=None, all_possible_transitions=True,\n",
              "    averaging=None, c=None, c1=0.1, c2=0.1, calibration_candidates=None,\n",
              "    calibration_eta=None, calibration_max_trials=None, calibration_rate=None,\n",
              "    calibration_samples=None, delta=None, epsilon=None, error_sensitive=None,\n",
              "    gamma=None, keep_tempfiles=None, linesearch=None, max_iterations=500,\n",
              "    max_linesearch=None, min_freq=None, model_filename=None, num_memories=None,\n",
              "    pa_type=None, period=None, trainer_cls=None, variance=None, verbose=False)"
            ]
          },
          "metadata": {
            "tags": []
          },
          "execution_count": 11
        }
      ]
    },
    {
      "cell_type": "markdown",
      "metadata": {
        "id": "rDM93Xh9JUd1",
        "colab_type": "text"
      },
      "source": [
        "Evaluation\n",
        "\n",
        "Precision, recall and f1-score are used as evaluation metrics.\n",
        "\n",
        "A detailed explanation on metrics: https://medium.com/analytics-vidhya/pos-tagging-using-conditional-random-fields-92077e5eaa31"
      ]
    },
    {
      "cell_type": "code",
      "metadata": {
        "id": "mJm4Ifk2JPS-",
        "colab_type": "code",
        "colab": {
          "base_uri": "https://localhost:8080/",
          "height": 35
        },
        "outputId": "ed691a33-ed55-4849-eb3d-727e6e18d13a"
      },
      "source": [
        "labels = list(crf.classes_)\n",
        "y_pred = crf.predict(X_validation)\n",
        "metrics.flat_f1_score(y_validation, y_pred,\n",
        "                      average='weighted', labels=labels)\n"
      ],
      "execution_count": 12,
      "outputs": [
        {
          "output_type": "execute_result",
          "data": {
            "text/plain": [
              "0.9906933631825323"
            ]
          },
          "metadata": {
            "tags": []
          },
          "execution_count": 12
        }
      ]
    },
    {
      "cell_type": "markdown",
      "metadata": {
        "id": "MW2if-AEJcl3",
        "colab_type": "text"
      },
      "source": [
        "Notice that evaluation metrics are applied to each category (AC, NC, PA etc.)"
      ]
    },
    {
      "cell_type": "code",
      "metadata": {
        "id": "MGldUFCdJkxX",
        "colab_type": "code",
        "colab": {
          "base_uri": "https://localhost:8080/",
          "height": 266
        },
        "outputId": "3a4ccb1d-9ae8-4b87-86f8-0b00f1c4aa1d"
      },
      "source": [
        "# Metrics by label\n",
        "sorted_labels = sorted(\n",
        "    labels,\n",
        "    key=lambda name: (name[1:], name[0])\n",
        ")\n",
        "print(metrics.flat_classification_report(\n",
        "    y_validation, y_pred, labels=sorted_labels, digits=3\n",
        "))"
      ],
      "execution_count": null,
      "outputs": [
        {
          "output_type": "stream",
          "text": [
            "              precision    recall  f1-score   support\n",
            "\n",
            "           D      1.000     0.963     0.981        54\n",
            "          PA      1.000     1.000     1.000        21\n",
            "          AC      0.989     1.000     0.995        94\n",
            "          NC      0.975     1.000     0.988        79\n",
            "          OC      1.000     0.955     0.977        22\n",
            "         END      1.000     1.000     1.000        27\n",
            "       START      1.000     1.000     1.000        27\n",
            "\n",
            "    accuracy                          0.991       324\n",
            "   macro avg      0.995     0.988     0.991       324\n",
            "weighted avg      0.991     0.991     0.991       324\n",
            "\n"
          ],
          "name": "stdout"
        }
      ]
    },
    {
      "cell_type": "markdown",
      "metadata": {
        "id": "6ys2SRODJh3c",
        "colab_type": "text"
      },
      "source": [
        "Apply the model to the entire dataset"
      ]
    },
    {
      "cell_type": "code",
      "metadata": {
        "id": "7AfrigTzOT6E",
        "colab_type": "code",
        "colab": {}
      },
      "source": [
        "import glob\n",
        "file_path = \"/content/nypl_1850_bk_clean_records.txt\"\n",
        "\n",
        "with open(file_path) as f:\n",
        "  data = f.readlines()"
      ],
      "execution_count": 13,
      "outputs": []
    },
    {
      "cell_type": "markdown",
      "metadata": {
        "id": "hMG22Wv3Op8B",
        "colab_type": "text"
      },
      "source": [
        "Format the records to apply on the entire dataset"
      ]
    },
    {
      "cell_type": "code",
      "metadata": {
        "id": "hFuVsWJXOwnJ",
        "colab_type": "code",
        "colab": {}
      },
      "source": [
        "\n",
        "formatted = []\n",
        "for record in data:\n",
        "  ls = record.split()\n",
        "  if ls:\n",
        "    if bool(re.match(\"([A-Z])\", ls[0])) == True: # Remove '+\\.'\n",
        "      continue\n",
        "    else:\n",
        "      record_split = []\n",
        "      for word in ls[1:]:\n",
        "        if word[-1] == \".\" or word[-1] == \",\":\n",
        "          record_split.append(word[:-1])\n",
        "          record_split.append(word[-1])\n",
        "        else:\n",
        "          record_split.append(word)\n",
        "    formatted.append([ls[0], record_split])"
      ],
      "execution_count": 14,
      "outputs": []
    },
    {
      "cell_type": "code",
      "metadata": {
        "id": "OVgcyMlnOz0S",
        "colab_type": "code",
        "colab": {}
      },
      "source": [
        "def predict_label(s):\n",
        "  sents = [[(word,0) for word in s]]\n",
        "  sents[0].insert(0, ('START',0))\n",
        "  sents[0].append(('END', 0))\n",
        "  X = [sent2features(s) for s in sents]\n",
        "  y = crf.predict(X)\n",
        "  return y"
      ],
      "execution_count": 15,
      "outputs": []
    },
    {
      "cell_type": "code",
      "metadata": {
        "id": "GYljFsJoO289",
        "colab_type": "code",
        "colab": {}
      },
      "source": [
        "n = len(formatted)\n",
        "for i in range(n):\n",
        "  labels = predict_label(formatted[i][1])\n",
        "  formatted[i].append(labels[0])"
      ],
      "execution_count": 16,
      "outputs": []
    },
    {
      "cell_type": "code",
      "metadata": {
        "id": "vU5Jr0-BO531",
        "colab_type": "code",
        "colab": {}
      },
      "source": [
        "# Pickle the list to save preliminary result\n",
        "with open(\"bk_prediction.pkl\", \"wb\") as f:\n",
        "  pickle.dump(formatted,f)"
      ],
      "execution_count": 17,
      "outputs": []
    },
    {
      "cell_type": "markdown",
      "metadata": {
        "id": "0UOKkwesPFz4",
        "colab_type": "text"
      },
      "source": [
        "Save the prediction to json format"
      ]
    },
    {
      "cell_type": "code",
      "metadata": {
        "id": "zZbfOjiRPAgK",
        "colab_type": "code",
        "colab": {}
      },
      "source": [
        "# Retrieve result\n",
        "with open(\"bk_prediction.pkl\", 'rb') as f:\n",
        "  d = pickle.load(f)"
      ],
      "execution_count": 18,
      "outputs": []
    },
    {
      "cell_type": "code",
      "metadata": {
        "id": "HnP5glu7PJ-r",
        "colab_type": "code",
        "colab": {}
      },
      "source": [
        "output = []\n",
        "for record in d:\n",
        "  d_record = {}\n",
        "  d_record[\"index\"] = int(record[0])\n",
        "  n = len(record[1])\n",
        "  start = 1\n",
        "  for i in range(1, n + 1):\n",
        "    if i <  n:\n",
        "      # Skip delimiters\n",
        "      if record[2][i] == \"D\":\n",
        "        start = i+1\n",
        "        continue\n",
        "      elif record[2][i+1] == \"D\":\n",
        "        try:\n",
        "          d_record[record[2][i]].append(record[1][(start-1):i])\n",
        "        except:\n",
        "          d_record[record[2][i]] = [record[1][(start-1):i]]\n",
        "        start = i + 2\n",
        "    else:\n",
        "      try:\n",
        "          d_record[record[2][i]].append(record[1][(start-1):])\n",
        "      except:\n",
        "          d_record[record[2][i]] = [record[1][(start-1):]]\n",
        "\n",
        "  output.append(d_record)"
      ],
      "execution_count": 19,
      "outputs": []
    },
    {
      "cell_type": "markdown",
      "metadata": {
        "id": "4Bxk1j5KVIXt",
        "colab_type": "text"
      },
      "source": [
        "Generate primary fields\n",
        "\n",
        "Here 4 primary fields are generated to faciliate the generation of final output: Occupation, Name, Marriage_Status and Address."
      ]
    },
    {
      "cell_type": "code",
      "metadata": {
        "id": "3GmmyOFiSDB4",
        "colab_type": "code",
        "colab": {}
      },
      "source": [
        "final = {}\n",
        "for record in output:\n",
        "  new = {}\n",
        "  try:\n",
        "    occupation = record['OC']\n",
        "    new['Occupation'] = []\n",
        "    for oc in occupation:\n",
        "      new['Occupation'].append(' '.join(oc))\n",
        "    new['Occupation'] = ' '.join(new['Occupation'])\n",
        "  except:\n",
        "    pass\n",
        "  try:\n",
        "    # Deal with widow marriage status\n",
        "    name = record['NC']\n",
        "    new['Name'] = ' '.join(name[0])\n",
        "    if len(name) > 1:\n",
        "      if name[1][0] == 'widow':\n",
        "        new['Marriage_Status'] = 'widow'\n",
        "      else:\n",
        "        new['Marriage_Status'] = 'widow of ' + ' '.join(name[1][2:])\n",
        "  except:\n",
        "    pass\n",
        "\n",
        "  try:\n",
        "    # Multiple address\n",
        "    address = record['AC']\n",
        "    if len(address) == 1:\n",
        "      if ((address[0][0] == \"h.\") or (address[0][0] == \"h\")):  # Use 'h.' for 1850 Brooklyn\n",
        "        new['Address'] = [['h.', ' '.join(address[0][1:])]]\n",
        "      else:\n",
        "        new['Address'] = [['assume_h', ' '.join(address[0])]]\n",
        "    else:\n",
        "      new['Address'] = []\n",
        "      for ad in address:\n",
        "        if ((ad[0] == \"h.\") or (ad[0] == \"h\")):\n",
        "          new['Address'].append(['h.', ' '.join(ad[1:])])\n",
        "        else:\n",
        "          new['Address'].append(['w', ' '.join(ad)])\n",
        "  except:\n",
        "    pass\n",
        "  \n",
        "  final[str(record['index'])] = new"
      ],
      "execution_count": 20,
      "outputs": []
    },
    {
      "cell_type": "code",
      "metadata": {
        "id": "nWV9OVKnSFny",
        "colab_type": "code",
        "colab": {}
      },
      "source": [
        "# Save file\n",
        "with open('bk_result.json', 'w') as f:\n",
        "    json.dump(final,f)\n",
        "f.close()"
      ],
      "execution_count": 21,
      "outputs": []
    },
    {
      "cell_type": "code",
      "metadata": {
        "id": "6TLY7yKKSMcz",
        "colab_type": "code",
        "colab": {}
      },
      "source": [
        "# Open file\n",
        "with open('bk_result.json', 'r') as f:\n",
        "    d = json.load(f)\n",
        "f.close()"
      ],
      "execution_count": 22,
      "outputs": []
    },
    {
      "cell_type": "code",
      "metadata": {
        "id": "MLWmUFImSRZ7",
        "colab_type": "code",
        "colab": {
          "base_uri": "https://localhost:8080/",
          "height": 70
        },
        "outputId": "8168a89f-8412-486b-c896-974ea4cf81a2"
      },
      "source": [
        "d['10']"
      ],
      "execution_count": 23,
      "outputs": [
        {
          "output_type": "execute_result",
          "data": {
            "text/plain": [
              "{'Address': [['assume_h', 'Bond c State']],\n",
              " 'Name': 'Abbott James',\n",
              " 'Occupation': 'laborer'}"
            ]
          },
          "metadata": {
            "tags": []
          },
          "execution_count": 23
        }
      ]
    },
    {
      "cell_type": "markdown",
      "metadata": {
        "id": "YTr4L2oTVOJP",
        "colab_type": "text"
      },
      "source": [
        "Some examples"
      ]
    },
    {
      "cell_type": "code",
      "metadata": {
        "id": "vVSu4agoSgVL",
        "colab_type": "code",
        "colab": {
          "base_uri": "https://localhost:8080/",
          "height": 728
        },
        "outputId": "841ca24c-f9c8-4bc0-8c7b-8a37583c9a78"
      },
      "source": [
        "# 10 alphabetical examples\n",
        "for i in range(3100, 3110):\n",
        "  print(' '.join(formatted[i-1][1]))\n",
        "  print(final[str(i)])\n",
        "  print('\\n')"
      ],
      "execution_count": 24,
      "outputs": [
        {
          "output_type": "stream",
          "text": [
            "Colgan Isaac , Union n VanBrunt\n",
            "{'Name': 'Colgan Isaac', 'Address': [['assume_h', 'Union n VanBrunt']]}\n",
            "\n",
            "\n",
            "Colgan James , lighterman , 323 Water\n",
            "{'Occupation': 'lighterman', 'Name': 'Colgan James', 'Address': [['assume_h', '323 Water']]}\n",
            "\n",
            "\n",
            "Colgan James , shoemaker , Dickinson’s alley n Prospect\n",
            "{'Occupation': 'shoemaker', 'Name': 'Colgan James', 'Address': [['assume_h', 'Dickinson’s alley n Prospect']]}\n",
            "\n",
            "\n",
            "Colgan John , laborer , 1 Hall’s Buildings Furman\n",
            "{'Occupation': 'laborer', 'Name': 'Colgan John', 'Address': [['assume_h', '1 Hall’s Buildings Furman']]}\n",
            "\n",
            "\n",
            "Colgan Joseph P , physician , 180 Jay\n",
            "{'Occupation': 'physician', 'Name': 'Colgan Joseph P', 'Address': [['assume_h', '180 Jay']]}\n",
            "\n",
            "\n",
            "Colgan Mary , widow , 29 Front\n",
            "{'Name': 'Colgan Mary', 'Marriage_Status': 'widow', 'Address': [['assume_h', '29 Front']]}\n",
            "\n",
            "\n",
            "Colgan Patrick , laborer , Raymond c Bolivar\n",
            "{'Occupation': 'laborer', 'Name': 'Colgan Patrick', 'Address': [['assume_h', 'Raymond c Bolivar']]}\n",
            "\n",
            "\n",
            "Colgrove D , grocer , 270 Washington c Myrtle av\n",
            "{'Occupation': 'grocer', 'Name': 'Colgrove D', 'Address': [['assume_h', '270 Washington c Myrtle av']]}\n",
            "\n",
            "\n",
            "Collard Auu , widow , Bond n Douglass\n",
            "{'Name': 'Collard Auu', 'Marriage_Status': 'widow', 'Address': [['assume_h', 'Bond n Douglass']]}\n",
            "\n",
            "\n",
            "Colley George , blacksmith r , 70 Middagh\n",
            "{'Occupation': 'blacksmith r', 'Name': 'Colley George', 'Address': [['assume_h', '70 Middagh']]}\n",
            "\n",
            "\n"
          ],
          "name": "stdout"
        }
      ]
    }
  ]
}