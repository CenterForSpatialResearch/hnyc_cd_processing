{
  "nbformat": 4,
  "nbformat_minor": 0,
  "metadata": {
    "colab": {
      "name": "Final_Output_1880.ipynb",
      "provenance": [],
      "collapsed_sections": [],
      "toc_visible": true
    },
    "kernelspec": {
      "name": "python3",
      "display_name": "Python 3"
    }
  },
  "cells": [
    {
      "cell_type": "code",
      "metadata": {
        "id": "tpL5JYG9vd9R",
        "colab_type": "code",
        "colab": {
          "base_uri": "https://localhost:8080/",
          "height": 35
        },
        "outputId": "b72026cb-fa10-41cc-9030-ecd38c1cc543"
      },
      "source": [
        "#get authorization from google drive\n",
        "from google.colab import drive\n",
        "drive.mount('/content/drive')"
      ],
      "execution_count": null,
      "outputs": [
        {
          "output_type": "stream",
          "text": [
            "Drive already mounted at /content/drive; to attempt to forcibly remount, call drive.mount(\"/content/drive\", force_remount=True).\n"
          ],
          "name": "stdout"
        }
      ]
    },
    {
      "cell_type": "code",
      "metadata": {
        "id": "KS_v3bf-wjrF",
        "colab_type": "code",
        "colab": {}
      },
      "source": [
        "#load original record\n",
        "import glob\n",
        "file_path = \"/content/drive/My Drive/cd_processing/Data/1.working/input/1880/drive/My Drive/cd_processing/Data/1.working/input/1880/nypl_1880_clean_records.txt\"\n",
        "with open(file_path) as f:\n",
        "  data = f.readlines()  "
      ],
      "execution_count": 4,
      "outputs": []
    },
    {
      "cell_type": "code",
      "metadata": {
        "id": "_G7YkyKSx2yI",
        "colab_type": "code",
        "colab": {}
      },
      "source": [
        "n = len(data)\n",
        "full_entry = []\n",
        "for i in range(n):\n",
        "  ls = data[i].split()\n",
        "  if ls:\n",
        "    if ls[0][1:] != \"***\":\n",
        "      full_entry.append(' '.join(ls))"
      ],
      "execution_count": 5,
      "outputs": []
    },
    {
      "cell_type": "code",
      "metadata": {
        "id": "gQEN0K1syoaN",
        "colab_type": "code",
        "colab": {}
      },
      "source": [
        "#retrieve result\n",
        "import pickle\n",
        "with open(\"/content/drive/My Drive/cd_processing/Data/1.working/input/1880/prediction.pkl\", 'rb') as f:\n",
        "  d = pickle.load(f)"
      ],
      "execution_count": 9,
      "outputs": []
    },
    {
      "cell_type": "markdown",
      "metadata": {
        "id": "_xFNkT7PdthL",
        "colab_type": "text"
      },
      "source": [
        "##Extract different components from prediction results\n",
        "\n",
        "Only extract information that we need and ignore delimiters."
      ]
    },
    {
      "cell_type": "code",
      "metadata": {
        "id": "9bxfr2Y8y1Mg",
        "colab_type": "code",
        "colab": {}
      },
      "source": [
        "output = []\n",
        "for record in d:\n",
        "  d_record = {}\n",
        "  d_record[\"index\"] = int(record[0])\n",
        "  n = len(record[1])\n",
        "  start = 1\n",
        "  for i in range(1, n + 1):\n",
        "    if i <  n:\n",
        "      #skip delimiters\n",
        "      if record[2][i] == \"D\":\n",
        "        start = i+1\n",
        "        continue\n",
        "      elif record[2][i+1] == \"D\":\n",
        "        try:\n",
        "          d_record[record[2][i]].append(record[1][(start-1):i])\n",
        "        except:\n",
        "          d_record[record[2][i]] = [record[1][(start-1):i]]\n",
        "        start = i + 2\n",
        "    else:\n",
        "      try:\n",
        "          d_record[record[2][i]].append(record[1][(start-1):])\n",
        "      except:\n",
        "          d_record[record[2][i]] = [record[1][(start-1):]]\n",
        "\n",
        "  output.append(d_record)"
      ],
      "execution_count": 10,
      "outputs": []
    },
    {
      "cell_type": "markdown",
      "metadata": {
        "id": "W_FTP6wR9XFN",
        "colab_type": "text"
      },
      "source": [
        "Further organize prediction results. "
      ]
    },
    {
      "cell_type": "code",
      "metadata": {
        "id": "26XTgWUpzMwz",
        "colab_type": "code",
        "colab": {}
      },
      "source": [
        "agg = {}\n",
        "for record in output:\n",
        "  new = {}\n",
        "\n",
        "  try:\n",
        "    occupation = record['OC']\n",
        "    new['Occupation'] = []\n",
        "    for oc in occupation:\n",
        "      new['Occupation'].append(' '.join(oc))\n",
        "    new['Occupation'] = ' '.join(new['Occupation'])\n",
        "  except:\n",
        "    pass\n",
        "\n",
        "  try:\n",
        "    #deal with widow marriage status\n",
        "    new['Name'] = []\n",
        "    names = record['NC']\n",
        "    for name in names:\n",
        "      name_new = name[0]\n",
        "      n = len(name)\n",
        "      for i in range(1,n):\n",
        "        if name[i] == '.':\n",
        "          name_new += name[i]\n",
        "        else:\n",
        "          name_new += ' '\n",
        "          name_new += name[i]\n",
        "      new['Name'].append(name_new)\n",
        "  \n",
        "  except:\n",
        "    pass\n",
        "\n",
        "  try:\n",
        "    #multiple address\n",
        "    new['Address'] = []\n",
        "    addresses = record['AC']\n",
        "    for address in addresses:\n",
        "      address_new = address[0]\n",
        "      n = len(address)\n",
        "      for i in range(1,n):\n",
        "        if address[i] == '.':\n",
        "          address_new += address[i]\n",
        "        else:\n",
        "          address_new += ' '\n",
        "          address_new += address[i]\n",
        "      new['Address'].append(address_new)\n",
        "\n",
        "  except:\n",
        "    pass\n",
        "  \n",
        "  agg[str(record['index'])] = new"
      ],
      "execution_count": 11,
      "outputs": []
    },
    {
      "cell_type": "code",
      "metadata": {
        "id": "7SNK9YXiBVTU",
        "colab_type": "code",
        "colab": {}
      },
      "source": [
        "n = len(full_entry)\n",
        "final_output = {}\n",
        "#generate fields\n",
        "for i in range(1,n+1):\n",
        "  cd = {}\n",
        "  cd['address'] = ''\n",
        "  full_entry_ls = full_entry[i-1].split()\n",
        "  cd['Index'] = full_entry_ls[0]\n",
        "  cd['Full Entry'] = ' '.join(full_entry_ls[1:])\n",
        "  record = agg[str(i)]\n",
        "\n",
        "  try:\n",
        "    address = record['Address']\n",
        "    for i in range(len(address)-1):\n",
        "      h_add = address[i]\n",
        "      h_add_1 = h_add.split()\n",
        "      if ((h_add_1[0] in ('h','h.','w','w.','W','W.')) or (h_add_1[0].isdigit()) or (h_add_1[1].isdigit()) or (h_add_1[2].isdigit())):\n",
        "        continue\n",
        "      else:\n",
        "        cd['address'] = ','.join(address[i])\n",
        "\n",
        "  except:\n",
        "    pass\n",
        "\n",
        "  final_output[str(i)] = cd"
      ],
      "execution_count": 29,
      "outputs": []
    },
    {
      "cell_type": "markdown",
      "metadata": {
        "id": "mylz9HmDd7jk",
        "colab_type": "text"
      },
      "source": [
        "#Generate final fields"
      ]
    },
    {
      "cell_type": "markdown",
      "metadata": {
        "id": "KBTeo9Ph92zT",
        "colab_type": "text"
      },
      "source": [
        "Come up with a list of cities."
      ]
    },
    {
      "cell_type": "code",
      "metadata": {
        "id": "cw_y8zN3hRbt",
        "colab_type": "code",
        "colab": {}
      },
      "source": [
        "cities = ['Hoboken', 'N. J.', 'Spain', 'B’klyn', 'Mt. Vernon','Brooklyn','Jersey City']\n",
        "def has_city(address, cities = cities):\n",
        "  for city in cities:\n",
        "    if city in address:\n",
        "      return city\n",
        "  return ''"
      ],
      "execution_count": 13,
      "outputs": []
    },
    {
      "cell_type": "markdown",
      "metadata": {
        "id": "ij4VvbmAOvXP",
        "colab_type": "text"
      },
      "source": [
        "For address, if there is a house number then further extract street name and city. If not, assume the address is a city name.\n",
        "\n",
        "Notice that sometimes house number is not always at the beginning of the address. Example: h r 504 W. 55th"
      ]
    },
    {
      "cell_type": "code",
      "metadata": {
        "id": "Cx0KhewX0d1g",
        "colab_type": "code",
        "colab": {}
      },
      "source": [
        "n = len(full_entry)\n",
        "final_output = {}\n",
        "#generate fields\n",
        "for i in range(1,n+1):\n",
        "  cd = {}\n",
        "  cd['Full Name'] = ''\n",
        "  cd['First Name'] = ''\n",
        "  cd['Last Name'] = ''\n",
        "  cd['Middle Name'] = ''\n",
        "  cd['Widow-flag'] = 'False'\n",
        "  cd['Widow Of'] = ''\n",
        "  cd['Title'] = ''\n",
        "  cd['Occupation'] = ''\n",
        "  cd['Full Address'] = ''\n",
        "  cd['H Status-flag'] = ''\n",
        "  cd['H Address'] = ''\n",
        "  cd['H House Number'] = ''\n",
        "  cd['H Street Name'] = ''\n",
        "  cd['H City'] = ''\n",
        "  cd['Address 2'] = ''\n",
        "  cd['Address 2 House Number'] = ''\n",
        "  cd['Address 2 Street Name'] = ''\n",
        "  cd['Address 2 City'] = ''\n",
        "  full_entry_ls = full_entry[i-1].split()\n",
        "  cd['Index'] = full_entry_ls[0]\n",
        "  cd['Full Entry'] = ' '.join(full_entry_ls[1:])\n",
        "\n",
        "  record = agg[str(i)]\n",
        "  #name\n",
        "  try:\n",
        "    name = record['Name']\n",
        "    cd['Full Name'] = name[0]\n",
        "    name_ls = name[0].split()\n",
        "    if len(name_ls) == 2:\n",
        "      cd['Last Name'] = name_ls[0]\n",
        "      cd['First Name'] = name_ls[1]\n",
        "    elif len(name_ls) == 3:\n",
        "      cd['Last Name'] = name_ls[0]\n",
        "      cd['First Name'] = name_ls[1]\n",
        "      cd['Middle Name'] = name_ls[2]\n",
        "    \n",
        "    #widow flag\n",
        "    if len(name) == 2:\n",
        "      name_ls2 = name[1].split()\n",
        "      if name_ls2[0] == 'widow' or 'wid.':\n",
        "        cd['Widow-flag'] = 'True'\n",
        "      if len(name_ls2) > 1:\n",
        "        cd['Widow Of'] = ' '.join(name_ls2[1:])\n",
        "  except:\n",
        "    pass\n",
        "  \n",
        "  #occupation\n",
        "  try:\n",
        "    cd['Occupation'] = record['Occupation']\n",
        "  except:\n",
        "    pass\n",
        "  \n",
        "  #address\n",
        "  try:\n",
        "    address = record['Address']\n",
        "    cd['Full Address'] = ','.join(address)\n",
        "    if len(address) == 1:\n",
        "      cd['H Address'] = address[0]\n",
        "      address_1 = address[0].split()\n",
        "      if ((address_1[0] == 'h') or (address_1[0] == 'h.')):\n",
        "        cd['H Status-flag'] = 'True'\n",
        "        start = 1\n",
        "      else:\n",
        "        cd['H Status-flag'] = 'Assume'\n",
        "        start = 0\n",
        "      \n",
        "      house_num = False\n",
        "      if address_1[start].isdigit():\n",
        "        house_num = True\n",
        "      elif address_1[start+1].isdigit():\n",
        "        house_num = True\n",
        "        start += 1\n",
        "\n",
        "      if house_num:\n",
        "        cd['H House Number'] = address_1[start]\n",
        "        #city\n",
        "        city = has_city(cities, address_1)\n",
        "        if city:\n",
        "          cd['H City'] = city\n",
        "          cd['H Street Name'] = ' '.join(address_1[(start+1):]).replace(city,'').strip()\n",
        "        else:\n",
        "          cd['H Street Name'] = ' '.join(address_1[(start+1):])\n",
        "      else:\n",
        "        cd['H City'] = ' '.join(address_1[start:])\n",
        "\n",
        "    else:\n",
        "      add = address[0]\n",
        "      add_ls = add.split()\n",
        "      cd['Address 2'] = add\n",
        "      start = 0\n",
        "      house_num = False\n",
        "      if add_ls[start].isdigit():\n",
        "        house_num = True\n",
        "      elif add_ls[start+1].isdigit():\n",
        "        house_num = True\n",
        "        start += 1\n",
        "      if house_num:\n",
        "        cd['Address 2 House Number'] = add_ls[start]\n",
        "        #city\n",
        "        city = has_city(add)\n",
        "        if city:\n",
        "          cd['Address 2 City'] = city\n",
        "          cd['Address 2 Street Name'] = ' '.join(add_ls[(start+1):]).replace(city, '').strip()\n",
        "        else:\n",
        "          cd['Address 2 Street Name'] = ' '.join(add_ls[(start+1):])\n",
        "      else:\n",
        "        cd['Address 2 City'] = ' '.join(add_ls[start:])\n",
        "      \n",
        "      add_1 = address[1]\n",
        "      add_ls = add_1.split()\n",
        "      if ((add_ls[0] == 'h') or (add_ls[0] == 'h.')):\n",
        "        cd['H Address'] = add_1\n",
        "        cd['H Status-flag'] = 'True'\n",
        "        start = 1\n",
        "        house_num = False\n",
        "        if add_ls[start].isdigit():\n",
        "          house_num = True\n",
        "        elif add_ls[start+1].isdigit():\n",
        "          house_num = True\n",
        "          start += 1\n",
        "        if house_num:\n",
        "          cd['H House Number'] = add_ls[start]\n",
        "          #city\n",
        "          city = has_city(add_1)\n",
        "          if city:\n",
        "            cd['H City'] = city\n",
        "            cd['H Street Name'] = ' '.join(add_ls[(start+1):]).replace(city, '').strip()\n",
        "          else:\n",
        "            cd['H Street Name'] = ' '.join(add_ls[(start+1):])\n",
        "        else:\n",
        "          cd['H City'] = ' '.join(add_ls[start:])\n",
        "\n",
        "  except:\n",
        "    pass\n",
        "\n",
        "  final_output[str(i)] = cd"
      ],
      "execution_count": 33,
      "outputs": []
    },
    {
      "cell_type": "code",
      "metadata": {
        "id": "0G4nAzIjSTOr",
        "colab_type": "code",
        "colab": {
          "base_uri": "https://localhost:8080/",
          "height": 372
        },
        "outputId": "ba7c3fb6-a886-4f30-9972-1be68ed5e719"
      },
      "source": [
        "final_output['462']"
      ],
      "execution_count": 34,
      "outputs": [
        {
          "output_type": "execute_result",
          "data": {
            "text/plain": [
              "{'Address 2': '165 Mercer',\n",
              " 'Address 2 City': '',\n",
              " 'Address 2 House Number': '165',\n",
              " 'Address 2 Street Name': 'Mercer',\n",
              " 'First Name': 'Marie',\n",
              " 'Full Address': '165 Mercer,h 53 S. Oxford. B’klyn',\n",
              " 'Full Entry': 'Zimmermann Marie, strawgds. 165 Mercer, h 53 S. Oxford. B’klyn',\n",
              " 'Full Name': 'Zimmermann Marie',\n",
              " 'H Address': 'h 53 S. Oxford. B’klyn',\n",
              " 'H City': 'B’klyn',\n",
              " 'H House Number': '53',\n",
              " 'H Status-flag': 'True',\n",
              " 'H Street Name': 'S. Oxford.',\n",
              " 'Index': '462',\n",
              " 'Last Name': 'Zimmermann',\n",
              " 'Middle Name': '',\n",
              " 'Occupation': 'strawgds',\n",
              " 'Title': '',\n",
              " 'Widow Of': '',\n",
              " 'Widow-flag': 'False'}"
            ]
          },
          "metadata": {
            "tags": []
          },
          "execution_count": 34
        }
      ]
    },
    {
      "cell_type": "code",
      "metadata": {
        "id": "QyGYr6q8xlVX",
        "colab_type": "code",
        "colab": {}
      },
      "source": [
        "#save final output\n",
        "import json\n",
        "with open('/content/drive/My Drive/cd_processing/Data/1.working/input/1880/final_output.json', 'w') as f:\n",
        "    json.dump(final_output,f)\n",
        "f.close()"
      ],
      "execution_count": 35,
      "outputs": []
    },
    {
      "cell_type": "code",
      "metadata": {
        "id": "5En0nlc0IjRH",
        "colab_type": "code",
        "colab": {}
      },
      "source": [
        "import pandas as pd\n",
        "final_output_df = pd.DataFrame(final_output).T\n",
        "\n",
        "# Save pandas dataframe as pickle object\n",
        "with open(\"/content/drive/My Drive/cd_processing/Data/1.working/input/1880/final_output.pkl\", 'wb') as f:\n",
        "    pickle.dump(final_output_df, f)\n",
        "\n",
        "# Save to csv\n",
        "final_output_df.to_csv('/content/drive/My Drive/cd_processing/Data/1.working/input/1880/1880_output.csv')"
      ],
      "execution_count": 36,
      "outputs": []
    }
  ]
}