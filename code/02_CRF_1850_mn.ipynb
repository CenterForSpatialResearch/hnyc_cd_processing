{
 "cells": [
  {
   "cell_type": "code",
   "execution_count": null,
   "metadata": {
    "colab": {
     "base_uri": "https://localhost:8080/",
     "height": 215
    },
    "colab_type": "code",
    "id": "ovudGMuqHKNl",
    "outputId": "47c14c28-a258-4456-9b09-5a902fc631db"
   },
   "outputs": [
    {
     "name": "stdout",
     "output_type": "stream",
     "text": [
      "Collecting sklearn-crfsuite\n",
      "  Downloading https://files.pythonhosted.org/packages/25/74/5b7befa513482e6dee1f3dd68171a6c9dfc14c0eaa00f885ffeba54fe9b0/sklearn_crfsuite-0.3.6-py2.py3-none-any.whl\n",
      "Requirement already satisfied: tabulate in /usr/local/lib/python3.6/dist-packages (from sklearn-crfsuite) (0.8.7)\n",
      "Collecting python-crfsuite>=0.8.3\n",
      "\u001b[?25l  Downloading https://files.pythonhosted.org/packages/95/99/869dde6dbf3e0d07a013c8eebfb0a3d30776334e0097f8432b631a9a3a19/python_crfsuite-0.9.7-cp36-cp36m-manylinux1_x86_64.whl (743kB)\n",
      "\u001b[K     |████████████████████████████████| 747kB 4.1MB/s \n",
      "\u001b[?25hRequirement already satisfied: tqdm>=2.0 in /usr/local/lib/python3.6/dist-packages (from sklearn-crfsuite) (4.41.1)\n",
      "Requirement already satisfied: six in /usr/local/lib/python3.6/dist-packages (from sklearn-crfsuite) (1.12.0)\n",
      "Installing collected packages: python-crfsuite, sklearn-crfsuite\n",
      "Successfully installed python-crfsuite-0.9.7 sklearn-crfsuite-0.3.6\n"
     ]
    }
   ],
   "source": [
    "!pip install sklearn-crfsuite"
   ]
  },
  {
   "cell_type": "code",
   "execution_count": null,
   "metadata": {
    "colab": {},
    "colab_type": "code",
    "id": "qVI9bc-eHTT6"
   },
   "outputs": [],
   "source": [
    "import nltk\n",
    "import sklearn_crfsuite\n",
    "from sklearn_crfsuite import metrics\n",
    "from sklearn.metrics import make_scorer\n",
    "from sklearn.model_selection import RandomizedSearchCV\n",
    "import pandas as pd\n",
    "import re\n",
    "import scipy\n",
    "import pickle\n",
    "import json"
   ]
  },
  {
   "cell_type": "code",
   "execution_count": null,
   "metadata": {
    "colab": {},
    "colab_type": "code",
    "id": "MbCJG2yrHbvs"
   },
   "outputs": [],
   "source": [
    "# Prepare training and test data\n",
    "def prepare_data(path):\n",
    "  df = pd.read_csv(path, engine = \"python\")\n",
    "  sents = []\n",
    "  record = []\n",
    "  cur = df['number'][0]\n",
    "  for index,row in df.iterrows():\n",
    "    if row['number'] != cur:\n",
    "      sents.append(record)\n",
    "      record = [(row['pos'], row['tag'])]\n",
    "    else:\n",
    "      record.append((row['pos'], row['tag']))\n",
    "    cur = row['number']\n",
    "  sents.append(record)\n",
    "\n",
    "  return sents"
   ]
  },
  {
   "cell_type": "code",
   "execution_count": null,
   "metadata": {
    "colab": {},
    "colab_type": "code",
    "id": "PFzEDT8QH2Nj"
   },
   "outputs": [],
   "source": [
    "train_sents = prepare_data(\"/content/1850_train_mn.csv\")\n",
    "validation_sents = prepare_data(\"/content/1850_validation_mn.csv\")"
   ]
  },
  {
   "cell_type": "markdown",
   "metadata": {
    "colab_type": "text",
    "id": "OMsIEnAyIGcW"
   },
   "source": [
    "Show an example of data"
   ]
  },
  {
   "cell_type": "code",
   "execution_count": null,
   "metadata": {
    "colab": {
     "base_uri": "https://localhost:8080/",
     "height": 195
    },
    "colab_type": "code",
    "id": "p0s6IgF5IJtr",
    "outputId": "e18e6de0-b4d5-4cf0-ce60-f33b504506ab"
   },
   "outputs": [
    {
     "data": {
      "text/plain": [
       "[('START', 'START'),\n",
       " ('Otersen', 'NC'),\n",
       " ('Casten', 'NC'),\n",
       " (',', 'D'),\n",
       " ('produce', 'OC'),\n",
       " (',', 'D'),\n",
       " ('h', 'PA'),\n",
       " ('149', 'AC'),\n",
       " ('Franklin', 'AC'),\n",
       " ('END', 'END')]"
      ]
     },
     "execution_count": 6,
     "metadata": {
      "tags": []
     },
     "output_type": "execute_result"
    }
   ],
   "source": [
    "train_sents[0]"
   ]
  },
  {
   "cell_type": "markdown",
   "metadata": {
    "colab_type": "text",
    "id": "FXhJzWCiIUdi"
   },
   "source": [
    "Define CRF features\n",
    "Feature Explanation\n",
    "\n",
    "is_junior_token: does it equal \"jr\"?\n",
    "\n",
    "is_widow_token: does it equal \"widow\"?\n",
    "\n",
    "contains_digit: does it contain any number?\n",
    "\n",
    "is_delimiter: is it a delimiter?\n",
    "\n",
    "is_start: start of record?\n",
    "\n",
    "is_end: end of record?\n",
    "\n",
    "is_lower: all lowercase letters?\n",
    "\n",
    "is_upper: all uppercase letters?"
   ]
  },
  {
   "cell_type": "code",
   "execution_count": null,
   "metadata": {
    "colab": {},
    "colab_type": "code",
    "id": "ngAaaShBITLu"
   },
   "outputs": [],
   "source": [
    "def is_junior_token(input):\n",
    "        dc = input.lower()\n",
    "        if dc == \"jr\":\n",
    "            return True\n",
    "        return False\n",
    "\n",
    "def is_widow_token(input):\n",
    "        dc = input.lower()\n",
    "        if dc == \"wid\" or dc == \"widow\":\n",
    "            return True\n",
    "        return False\n",
    "\n",
    "def contains_digit(input):\n",
    "        for c in input:\n",
    "            if c.isdigit():\n",
    "                return True\n",
    "        return False\n",
    "\n",
    "def is_delimiter(input):\n",
    "        for c in input:\n",
    "            if c == '.' or c == ',':\n",
    "                return True\n",
    "        return False\n",
    "\n",
    "def is_start(input):\n",
    "        if input == \"START\":\n",
    "            return True\n",
    "        return False\n",
    "\n",
    "def is_end(input):\n",
    "        if input == \"END\":\n",
    "            return True\n",
    "        return False"
   ]
  },
  {
   "cell_type": "markdown",
   "metadata": {
    "colab_type": "text",
    "id": "RZW1Y6yGIcIv"
   },
   "source": [
    "Notice that features are not only generated on the current word, but also previous and next word."
   ]
  },
  {
   "cell_type": "code",
   "execution_count": null,
   "metadata": {
    "colab": {},
    "colab_type": "code",
    "id": "NtBlGeReIbZ8"
   },
   "outputs": [],
   "source": [
    "def word2features(sent, i):\n",
    "    word = sent[i][0]\n",
    "\n",
    "    features = {\n",
    "        'bias': 1.0,\n",
    "        'is_junior_token': is_junior_token(word),\n",
    "        'is_widow_token': is_widow_token(word),\n",
    "        'contains_digit': contains_digit(word),\n",
    "        'is_delimiter': is_delimiter(word),\n",
    "        'is_start': is_start(word),\n",
    "        'is_end': is_end(word),\n",
    "        'is_lower': word.islower(),\n",
    "        'is_title': word.istitle(),\n",
    "        'is_upper': word.isupper(),\n",
    "        'substr[-2:]': word[-2:],\n",
    "        'substr[-1:]': word[-1:]\n",
    "    }\n",
    "\n",
    "    if i == 0:\n",
    "      features.update({'BOS':True})\n",
    "    elif i == len(sent) - 1:\n",
    "      features.update({'EOS':True})\n",
    "    else:\n",
    "      word_prev = sent[i-1][0]\n",
    "      word_next = sent[i+1][0]\n",
    "      features.update({'prev_is_lower': word_prev.islower(), \n",
    "                       'prev_is_title': word_prev.istitle(),\n",
    "                       'prev_is_upper': word_prev.isupper(),\n",
    "                       'prev_is_delimiter': is_delimiter(word_prev),\n",
    "                       'next_is_lower': word_next.islower(),\n",
    "                       'next_is_title': word_next.istitle(),\n",
    "                       'next_is_upper': word_next.isupper(),\n",
    "                       'next_contains_digit': contains_digit(word_next),\n",
    "                       'next_is_end': is_end(word_next)})\n",
    "    \n",
    "    return features"
   ]
  },
  {
   "cell_type": "code",
   "execution_count": null,
   "metadata": {
    "colab": {},
    "colab_type": "code",
    "id": "bPGM_xcCIjoZ"
   },
   "outputs": [],
   "source": [
    "def sent2features(sent):\n",
    "    return [word2features(sent, i) for i in range(len(sent))]\n",
    "\n",
    "def sent2labels(sent):\n",
    "    return [label for word, label in sent]"
   ]
  },
  {
   "cell_type": "code",
   "execution_count": null,
   "metadata": {
    "colab": {},
    "colab_type": "code",
    "id": "ZJ_fvmP_Ik3D"
   },
   "outputs": [],
   "source": [
    "# Extract features from data\n",
    "X_train = [sent2features(s) for s in train_sents]\n",
    "y_train = [sent2labels(s) for s in train_sents]\n",
    "X_validation = [sent2features(s) for s in validation_sents]\n",
    "y_validation = [sent2labels(s) for s in validation_sents]"
   ]
  },
  {
   "cell_type": "code",
   "execution_count": null,
   "metadata": {
    "colab": {
     "base_uri": "https://localhost:8080/",
     "height": 197
    },
    "colab_type": "code",
    "id": "qAtsajnSIp8G",
    "outputId": "69ae2543-b807-4e0b-a615-f94acf5a570b"
   },
   "outputs": [
    {
     "name": "stderr",
     "output_type": "stream",
     "text": [
      "/usr/local/lib/python3.6/dist-packages/sklearn/base.py:197: FutureWarning: From version 0.24, get_params will raise an AttributeError if a parameter cannot be retrieved as an instance attribute. Previously it would return None.\n",
      "  FutureWarning)\n"
     ]
    },
    {
     "data": {
      "text/plain": [
       "CRF(algorithm='lbfgs', all_possible_states=None, all_possible_transitions=True,\n",
       "    averaging=None, c=None, c1=0.1, c2=0.1, calibration_candidates=None,\n",
       "    calibration_eta=None, calibration_max_trials=None, calibration_rate=None,\n",
       "    calibration_samples=None, delta=None, epsilon=None, error_sensitive=None,\n",
       "    gamma=None, keep_tempfiles=None, linesearch=None, max_iterations=500,\n",
       "    max_linesearch=None, min_freq=None, model_filename=None, num_memories=None,\n",
       "    pa_type=None, period=None, trainer_cls=None, variance=None, verbose=False)"
      ]
     },
     "execution_count": 31,
     "metadata": {
      "tags": []
     },
     "output_type": "execute_result"
    }
   ],
   "source": [
    "\n",
    "crf = sklearn_crfsuite.CRF(\n",
    "    algorithm='lbfgs',\n",
    "    c1=0.1,\n",
    "    c2=0.1,\n",
    "    max_iterations=500,\n",
    "    all_possible_transitions=True\n",
    ")\n",
    "crf.fit(X_train, y_train)"
   ]
  },
  {
   "cell_type": "markdown",
   "metadata": {
    "colab_type": "text",
    "id": "rDM93Xh9JUd1"
   },
   "source": [
    "Evaluation\n",
    "\n",
    "Precision, recall and f1-score are used as evaluation metrics.\n",
    "\n",
    "A detailed explanation on metrics: https://medium.com/analytics-vidhya/pos-tagging-using-conditional-random-fields-92077e5eaa31"
   ]
  },
  {
   "cell_type": "code",
   "execution_count": null,
   "metadata": {
    "colab": {
     "base_uri": "https://localhost:8080/",
     "height": 35
    },
    "colab_type": "code",
    "id": "mJm4Ifk2JPS-",
    "outputId": "e82f9f48-ae79-4ffb-a63b-2b69ca9464e8"
   },
   "outputs": [
    {
     "data": {
      "text/plain": [
       "0.9906933631825323"
      ]
     },
     "execution_count": 32,
     "metadata": {
      "tags": []
     },
     "output_type": "execute_result"
    }
   ],
   "source": [
    "labels = list(crf.classes_)\n",
    "y_pred = crf.predict(X_validation)\n",
    "metrics.flat_f1_score(y_validation, y_pred,\n",
    "                      average='weighted', labels=labels)\n"
   ]
  },
  {
   "cell_type": "markdown",
   "metadata": {
    "colab_type": "text",
    "id": "MW2if-AEJcl3"
   },
   "source": [
    "Notice that evaluation metrics are applied to each category (AC, NC, PA etc.)"
   ]
  },
  {
   "cell_type": "code",
   "execution_count": null,
   "metadata": {
    "colab": {
     "base_uri": "https://localhost:8080/",
     "height": 266
    },
    "colab_type": "code",
    "id": "MGldUFCdJkxX",
    "outputId": "3a4ccb1d-9ae8-4b87-86f8-0b00f1c4aa1d"
   },
   "outputs": [
    {
     "name": "stdout",
     "output_type": "stream",
     "text": [
      "              precision    recall  f1-score   support\n",
      "\n",
      "           D      1.000     0.963     0.981        54\n",
      "          PA      1.000     1.000     1.000        21\n",
      "          AC      0.989     1.000     0.995        94\n",
      "          NC      0.975     1.000     0.988        79\n",
      "          OC      1.000     0.955     0.977        22\n",
      "         END      1.000     1.000     1.000        27\n",
      "       START      1.000     1.000     1.000        27\n",
      "\n",
      "    accuracy                          0.991       324\n",
      "   macro avg      0.995     0.988     0.991       324\n",
      "weighted avg      0.991     0.991     0.991       324\n",
      "\n"
     ]
    }
   ],
   "source": [
    "# Metrics by label\n",
    "sorted_labels = sorted(\n",
    "    labels,\n",
    "    key=lambda name: (name[1:], name[0])\n",
    ")\n",
    "print(metrics.flat_classification_report(\n",
    "    y_validation, y_pred, labels=sorted_labels, digits=3\n",
    "))"
   ]
  },
  {
   "cell_type": "markdown",
   "metadata": {
    "colab_type": "text",
    "id": "6ys2SRODJh3c"
   },
   "source": [
    "Apply the model to the entire dataset"
   ]
  },
  {
   "cell_type": "code",
   "execution_count": null,
   "metadata": {
    "colab": {},
    "colab_type": "code",
    "id": "7AfrigTzOT6E"
   },
   "outputs": [],
   "source": [
    "import glob\n",
    "file_path = \"/content/nypl_1850_mn_clean_records.txt\"\n",
    "\n",
    "with open(file_path) as f:\n",
    "  data = f.readlines()"
   ]
  },
  {
   "cell_type": "markdown",
   "metadata": {
    "colab_type": "text",
    "id": "hMG22Wv3Op8B"
   },
   "source": [
    "Format the records to apply on the entire dataset"
   ]
  },
  {
   "cell_type": "code",
   "execution_count": null,
   "metadata": {
    "colab": {},
    "colab_type": "code",
    "id": "hFuVsWJXOwnJ"
   },
   "outputs": [],
   "source": [
    "formatted = []\n",
    "for record in data:\n",
    "  ls = record.split()\n",
    "  if ls:\n",
    "    if bool(re.match(\"([A-Z]+\\.)\", ls[0])) == True:\n",
    "      continue\n",
    "    else:\n",
    "      record_split = []\n",
    "      for word in ls[1:]:\n",
    "        if word[-1] == \".\" or word[-1] == \",\":\n",
    "          record_split.append(word[:-1])\n",
    "          record_split.append(word[-1])\n",
    "        else:\n",
    "          record_split.append(word)\n",
    "    formatted.append([ls[0], record_split])"
   ]
  },
  {
   "cell_type": "code",
   "execution_count": null,
   "metadata": {
    "colab": {},
    "colab_type": "code",
    "id": "OVgcyMlnOz0S"
   },
   "outputs": [],
   "source": [
    "\n",
    "def predict_label(s):\n",
    "  sents = [[(word,0) for word in s]]\n",
    "  sents[0].insert(0, ('START',0))\n",
    "  sents[0].append(('END', 0))\n",
    "  X = [sent2features(s) for s in sents]\n",
    "  y = crf.predict(X)\n",
    "  return y"
   ]
  },
  {
   "cell_type": "code",
   "execution_count": null,
   "metadata": {
    "colab": {},
    "colab_type": "code",
    "id": "GYljFsJoO289"
   },
   "outputs": [],
   "source": [
    "n = len(formatted)\n",
    "for i in range(n):\n",
    "  labels = predict_label(formatted[i][1])\n",
    "  formatted[i].append(labels[0])"
   ]
  },
  {
   "cell_type": "code",
   "execution_count": null,
   "metadata": {
    "colab": {},
    "colab_type": "code",
    "id": "vU5Jr0-BO531"
   },
   "outputs": [],
   "source": [
    "# Pickle the list to save preliminary result\n",
    "with open(\"mn_prediction.pkl\", \"wb\") as f:\n",
    "  pickle.dump(formatted,f)"
   ]
  },
  {
   "cell_type": "markdown",
   "metadata": {
    "colab_type": "text",
    "id": "0UOKkwesPFz4"
   },
   "source": [
    "Save the prediction to json format"
   ]
  },
  {
   "cell_type": "code",
   "execution_count": null,
   "metadata": {
    "colab": {},
    "colab_type": "code",
    "id": "zZbfOjiRPAgK"
   },
   "outputs": [],
   "source": [
    "# Retrieve result\n",
    "with open(\"mn_prediction.pkl\", 'rb') as f:\n",
    "  d = pickle.load(f)"
   ]
  },
  {
   "cell_type": "code",
   "execution_count": null,
   "metadata": {
    "colab": {},
    "colab_type": "code",
    "id": "HnP5glu7PJ-r"
   },
   "outputs": [],
   "source": [
    "\n",
    "output = []\n",
    "for record in d:\n",
    "  d_record = {}\n",
    "  d_record[\"index\"] = int(record[0])\n",
    "  n = len(record[1])\n",
    "  start = 1\n",
    "  for i in range(1, n + 1):\n",
    "    if i <  n:\n",
    "      # Skip delimiters\n",
    "      if record[2][i] == \"D\":\n",
    "        start = i+1\n",
    "        continue\n",
    "      elif record[2][i+1] == \"D\":\n",
    "        try:\n",
    "          d_record[record[2][i]].append(record[1][(start-1):i])\n",
    "        except:\n",
    "          d_record[record[2][i]] = [record[1][(start-1):i]]\n",
    "        start = i + 2\n",
    "    else:\n",
    "      try:\n",
    "          d_record[record[2][i]].append(record[1][(start-1):])\n",
    "      except:\n",
    "          d_record[record[2][i]] = [record[1][(start-1):]]\n",
    "\n",
    "  output.append(d_record)"
   ]
  },
  {
   "cell_type": "markdown",
   "metadata": {
    "colab_type": "text",
    "id": "4Bxk1j5KVIXt"
   },
   "source": [
    "Generate primary fields\n",
    "\n",
    "Here 4 primary fields are generated to faciliate the generation of final output: Occupation, Name, Marriage_Status and Address."
   ]
  },
  {
   "cell_type": "code",
   "execution_count": null,
   "metadata": {
    "colab": {},
    "colab_type": "code",
    "id": "3GmmyOFiSDB4"
   },
   "outputs": [],
   "source": [
    "final = {}\n",
    "for record in output:\n",
    "  new = {}\n",
    "  try:\n",
    "    occupation = record['OC']\n",
    "    new['Occupation'] = []\n",
    "    for oc in occupation:\n",
    "      new['Occupation'].append(' '.join(oc))\n",
    "    new['Occupation'] = ' '.join(new['Occupation'])\n",
    "  except:\n",
    "    pass\n",
    "  try:\n",
    "    # Deal with widow marriage status\n",
    "    name = record['NC']\n",
    "    new['Name'] = ' '.join(name[0])\n",
    "    if len(name) > 1:\n",
    "      if name[1][0] == 'widow':\n",
    "        new['Marriage_Status'] = 'widow'\n",
    "      else:\n",
    "        new['Marriage_Status'] = 'widow of ' + ' '.join(name[1][2:])\n",
    "  except:\n",
    "    pass\n",
    "\n",
    "  try:\n",
    "    # Multiple address\n",
    "    address = record['AC']\n",
    "    if len(address) == 1:\n",
    "      if ((address[0][0] == \"h\") or (address[0][0] == \"h.\")):\n",
    "        new['Address'] = [['h', ' '.join(address[0][1:])]]\n",
    "      else:\n",
    "        new['Address'] = [['assume_h', ' '.join(address[0])]]\n",
    "    else:\n",
    "      new['Address'] = []\n",
    "      for ad in address:\n",
    "        if ((ad[0] == \"h\") or (ad[0] == \"h.\")):\n",
    "          new['Address'].append(['h', ' '.join(ad[1:])])\n",
    "        else:\n",
    "          new['Address'].append(['w', ' '.join(ad)])\n",
    "  except:\n",
    "    pass\n",
    "  \n",
    "  final[str(record['index'])] = new\n"
   ]
  },
  {
   "cell_type": "code",
   "execution_count": null,
   "metadata": {
    "colab": {},
    "colab_type": "code",
    "id": "nWV9OVKnSFny"
   },
   "outputs": [],
   "source": [
    "# Save file\n",
    "with open('mn_result.json', 'w') as f:\n",
    "    json.dump(final,f)\n",
    "f.close()"
   ]
  },
  {
   "cell_type": "code",
   "execution_count": null,
   "metadata": {
    "colab": {},
    "colab_type": "code",
    "id": "6TLY7yKKSMcz"
   },
   "outputs": [],
   "source": [
    "# Open file\n",
    "with open('mn_result.json', 'r') as f:\n",
    "    d = json.load(f)\n",
    "f.close()"
   ]
  },
  {
   "cell_type": "code",
   "execution_count": null,
   "metadata": {
    "colab": {
     "base_uri": "https://localhost:8080/",
     "height": 70
    },
    "colab_type": "code",
    "id": "MLWmUFImSRZ7",
    "outputId": "9d171e3e-2424-4c5e-d8a5-9e41451ae618"
   },
   "outputs": [
    {
     "data": {
      "text/plain": [
       "{'Address': [['assume_h', '34 Av . B']],\n",
       " 'Name': 'Asheld Thomas',\n",
       " 'Occupation': 'tailor'}"
      ]
     },
     "execution_count": 72,
     "metadata": {
      "tags": []
     },
     "output_type": "execute_result"
    }
   ],
   "source": [
    "d['2001']"
   ]
  },
  {
   "cell_type": "markdown",
   "metadata": {
    "colab_type": "text",
    "id": "YTr4L2oTVOJP"
   },
   "source": [
    "Some examples"
   ]
  },
  {
   "cell_type": "code",
   "execution_count": null,
   "metadata": {
    "colab": {
     "base_uri": "https://localhost:8080/",
     "height": 728
    },
    "colab_type": "code",
    "id": "vVSu4agoSgVL",
    "outputId": "1e8588cd-bff9-416e-9b68-fced376fee59"
   },
   "outputs": [
    {
     "name": "stdout",
     "output_type": "stream",
     "text": [
      "Bants John , assist , capt . 6th dist . h . 59 Franklin\n",
      "{'Occupation': 'assist capt', 'Name': 'Bants John', 'Address': [['assume_h', '6th dist . h . 59 Franklin']]}\n",
      "\n",
      "\n",
      "Bantz John , tailor , 266 Walker\n",
      "{'Occupation': 'tailor', 'Name': 'Bantz John', 'Address': [['assume_h', '266 Walker']]}\n",
      "\n",
      "\n",
      "Banyer G . Le Roy , 56 Barclay\n",
      "{'Name': 'Banyer G . Le Roy', 'Address': [['assume_h', '56 Barclay']]}\n",
      "\n",
      "\n",
      "Banyer Maria , 20 Bond\n",
      "{'Name': 'Banyer Maria', 'Address': [['assume_h', '20 Bond']]}\n",
      "\n",
      "\n",
      "Bapp John , police , 55 Attorney\n",
      "{'Occupation': 'police', 'Name': 'Bapp John', 'Address': [['assume_h', '55 Attorney']]}\n",
      "\n",
      "\n",
      "Baptis Benj . lapidary . 162 Fulton , h . Wllliamsburg\n",
      "{'Occupation': 'lapidary', 'Name': 'Baptis Benj', 'Address': [['w', '162 Fulton'], ['h', '. Wllliamsburg']]}\n",
      "\n",
      "\n",
      "Baptis Francis , boatbuilder , 329 Front\n",
      "{'Occupation': 'boatbuilder', 'Name': 'Baptis Francis', 'Address': [['assume_h', '329 Front']]}\n",
      "\n",
      "\n",
      "Baptis Harmon , boatbuilder , 368 Cherry\n",
      "{'Occupation': 'boatbuilder', 'Name': 'Baptis Harmon', 'Address': [['assume_h', '368 Cherry']]}\n",
      "\n",
      "\n",
      "Baptis Sarah , widow of John , 368 Cherry\n",
      "{'Name': 'Baptis Sarah', 'Marriage_Status': 'widow', 'Address': [['assume_h', '368 Cherry']]}\n",
      "\n",
      "\n",
      "Baptist John , fruits , 24 Grand\n",
      "{'Occupation': 'fruits', 'Name': 'Baptist John', 'Address': [['assume_h', '24 Grand']]}\n",
      "\n",
      "\n"
     ]
    }
   ],
   "source": [
    "# 10 alphabetical examples\n",
    "for i in range(3100, 3110):\n",
    "  print(' '.join(formatted[i-1][1]))\n",
    "  print(final[str(i)])\n",
    "  print('\\n')"
   ]
  }
 ],
 "metadata": {
  "colab": {
   "name": "CRF",
   "provenance": []
  },
  "kernelspec": {
   "display_name": "Python 3",
   "language": "python",
   "name": "python3"
  },
  "language_info": {
   "codemirror_mode": {
    "name": "ipython",
    "version": 3
   },
   "file_extension": ".py",
   "mimetype": "text/x-python",
   "name": "python",
   "nbconvert_exporter": "python",
   "pygments_lexer": "ipython3",
   "version": "3.7.3"
  }
 },
 "nbformat": 4,
 "nbformat_minor": 1
}
